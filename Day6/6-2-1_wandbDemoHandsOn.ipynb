{
  "nbformat": 4,
  "nbformat_minor": 0,
  "metadata": {
    "colab": {
      "provenance": []
    },
    "kernelspec": {
      "name": "python3",
      "display_name": "Python 3"
    },
    "language_info": {
      "name": "python"
    },
    "accelerator": "GPU",
    "gpuClass": "standard",
    "widgets": {
      "application/vnd.jupyter.widget-state+json": {
        "bfe0693f27ab461e8bb28a1672cd4c8e": {
          "model_module": "@jupyter-widgets/controls",
          "model_name": "VBoxModel",
          "model_module_version": "1.5.0",
          "state": {
            "_dom_classes": [],
            "_model_module": "@jupyter-widgets/controls",
            "_model_module_version": "1.5.0",
            "_model_name": "VBoxModel",
            "_view_count": null,
            "_view_module": "@jupyter-widgets/controls",
            "_view_module_version": "1.5.0",
            "_view_name": "VBoxView",
            "box_style": "",
            "children": [
              "IPY_MODEL_4b7c74e2d0de4e1cbfdda20faa4826bd",
              "IPY_MODEL_a6d9ca4ddbc94d25a155bc9fdbd96f76"
            ],
            "layout": "IPY_MODEL_83dba7ae5878496e82f2a86670857da7"
          }
        },
        "4b7c74e2d0de4e1cbfdda20faa4826bd": {
          "model_module": "@jupyter-widgets/controls",
          "model_name": "LabelModel",
          "model_module_version": "1.5.0",
          "state": {
            "_dom_classes": [],
            "_model_module": "@jupyter-widgets/controls",
            "_model_module_version": "1.5.0",
            "_model_name": "LabelModel",
            "_view_count": null,
            "_view_module": "@jupyter-widgets/controls",
            "_view_module_version": "1.5.0",
            "_view_name": "LabelView",
            "description": "",
            "description_tooltip": null,
            "layout": "IPY_MODEL_66adf30f6d4d4df8b1487de307686a46",
            "placeholder": "​",
            "style": "IPY_MODEL_35870fa00eb14c9395a59a1f88ac529c",
            "value": "0.001 MB of 0.001 MB uploaded (0.000 MB deduped)\r"
          }
        },
        "a6d9ca4ddbc94d25a155bc9fdbd96f76": {
          "model_module": "@jupyter-widgets/controls",
          "model_name": "FloatProgressModel",
          "model_module_version": "1.5.0",
          "state": {
            "_dom_classes": [],
            "_model_module": "@jupyter-widgets/controls",
            "_model_module_version": "1.5.0",
            "_model_name": "FloatProgressModel",
            "_view_count": null,
            "_view_module": "@jupyter-widgets/controls",
            "_view_module_version": "1.5.0",
            "_view_name": "ProgressView",
            "bar_style": "",
            "description": "",
            "description_tooltip": null,
            "layout": "IPY_MODEL_3a28dee2bfe44bbbaebfcadf9e797f21",
            "max": 1,
            "min": 0,
            "orientation": "horizontal",
            "style": "IPY_MODEL_45645f14d1914c659b80b46b4040d4de",
            "value": 1
          }
        },
        "83dba7ae5878496e82f2a86670857da7": {
          "model_module": "@jupyter-widgets/base",
          "model_name": "LayoutModel",
          "model_module_version": "1.2.0",
          "state": {
            "_model_module": "@jupyter-widgets/base",
            "_model_module_version": "1.2.0",
            "_model_name": "LayoutModel",
            "_view_count": null,
            "_view_module": "@jupyter-widgets/base",
            "_view_module_version": "1.2.0",
            "_view_name": "LayoutView",
            "align_content": null,
            "align_items": null,
            "align_self": null,
            "border": null,
            "bottom": null,
            "display": null,
            "flex": null,
            "flex_flow": null,
            "grid_area": null,
            "grid_auto_columns": null,
            "grid_auto_flow": null,
            "grid_auto_rows": null,
            "grid_column": null,
            "grid_gap": null,
            "grid_row": null,
            "grid_template_areas": null,
            "grid_template_columns": null,
            "grid_template_rows": null,
            "height": null,
            "justify_content": null,
            "justify_items": null,
            "left": null,
            "margin": null,
            "max_height": null,
            "max_width": null,
            "min_height": null,
            "min_width": null,
            "object_fit": null,
            "object_position": null,
            "order": null,
            "overflow": null,
            "overflow_x": null,
            "overflow_y": null,
            "padding": null,
            "right": null,
            "top": null,
            "visibility": null,
            "width": null
          }
        },
        "66adf30f6d4d4df8b1487de307686a46": {
          "model_module": "@jupyter-widgets/base",
          "model_name": "LayoutModel",
          "model_module_version": "1.2.0",
          "state": {
            "_model_module": "@jupyter-widgets/base",
            "_model_module_version": "1.2.0",
            "_model_name": "LayoutModel",
            "_view_count": null,
            "_view_module": "@jupyter-widgets/base",
            "_view_module_version": "1.2.0",
            "_view_name": "LayoutView",
            "align_content": null,
            "align_items": null,
            "align_self": null,
            "border": null,
            "bottom": null,
            "display": null,
            "flex": null,
            "flex_flow": null,
            "grid_area": null,
            "grid_auto_columns": null,
            "grid_auto_flow": null,
            "grid_auto_rows": null,
            "grid_column": null,
            "grid_gap": null,
            "grid_row": null,
            "grid_template_areas": null,
            "grid_template_columns": null,
            "grid_template_rows": null,
            "height": null,
            "justify_content": null,
            "justify_items": null,
            "left": null,
            "margin": null,
            "max_height": null,
            "max_width": null,
            "min_height": null,
            "min_width": null,
            "object_fit": null,
            "object_position": null,
            "order": null,
            "overflow": null,
            "overflow_x": null,
            "overflow_y": null,
            "padding": null,
            "right": null,
            "top": null,
            "visibility": null,
            "width": null
          }
        },
        "35870fa00eb14c9395a59a1f88ac529c": {
          "model_module": "@jupyter-widgets/controls",
          "model_name": "DescriptionStyleModel",
          "model_module_version": "1.5.0",
          "state": {
            "_model_module": "@jupyter-widgets/controls",
            "_model_module_version": "1.5.0",
            "_model_name": "DescriptionStyleModel",
            "_view_count": null,
            "_view_module": "@jupyter-widgets/base",
            "_view_module_version": "1.2.0",
            "_view_name": "StyleView",
            "description_width": ""
          }
        },
        "3a28dee2bfe44bbbaebfcadf9e797f21": {
          "model_module": "@jupyter-widgets/base",
          "model_name": "LayoutModel",
          "model_module_version": "1.2.0",
          "state": {
            "_model_module": "@jupyter-widgets/base",
            "_model_module_version": "1.2.0",
            "_model_name": "LayoutModel",
            "_view_count": null,
            "_view_module": "@jupyter-widgets/base",
            "_view_module_version": "1.2.0",
            "_view_name": "LayoutView",
            "align_content": null,
            "align_items": null,
            "align_self": null,
            "border": null,
            "bottom": null,
            "display": null,
            "flex": null,
            "flex_flow": null,
            "grid_area": null,
            "grid_auto_columns": null,
            "grid_auto_flow": null,
            "grid_auto_rows": null,
            "grid_column": null,
            "grid_gap": null,
            "grid_row": null,
            "grid_template_areas": null,
            "grid_template_columns": null,
            "grid_template_rows": null,
            "height": null,
            "justify_content": null,
            "justify_items": null,
            "left": null,
            "margin": null,
            "max_height": null,
            "max_width": null,
            "min_height": null,
            "min_width": null,
            "object_fit": null,
            "object_position": null,
            "order": null,
            "overflow": null,
            "overflow_x": null,
            "overflow_y": null,
            "padding": null,
            "right": null,
            "top": null,
            "visibility": null,
            "width": null
          }
        },
        "45645f14d1914c659b80b46b4040d4de": {
          "model_module": "@jupyter-widgets/controls",
          "model_name": "ProgressStyleModel",
          "model_module_version": "1.5.0",
          "state": {
            "_model_module": "@jupyter-widgets/controls",
            "_model_module_version": "1.5.0",
            "_model_name": "ProgressStyleModel",
            "_view_count": null,
            "_view_module": "@jupyter-widgets/base",
            "_view_module_version": "1.2.0",
            "_view_name": "StyleView",
            "bar_color": null,
            "description_width": ""
          }
        }
      }
    }
  },
  "cells": [
    {
      "cell_type": "markdown",
      "source": [
        "# Using wandb to track experiments.\n",
        "\n",
        "Demo task: multi-class image classification using CIFAR10 dataset."
      ],
      "metadata": {
        "id": "h6hjehhHW4tC"
      }
    },
    {
      "cell_type": "code",
      "source": [
        "from sklearn.metrics import average_precision_score\n",
        "from torch.utils.data import DataLoader\n",
        "from torchvision import datasets, models\n",
        "from torchvision import transforms as T\n",
        "from tqdm import tqdm\n",
        "\n",
        "import torch\n",
        "import torch.nn as nn\n",
        "import torch.optim as optim\n",
        "\n",
        "\n",
        "device = torch.device(\"cuda\" if torch.cuda.is_available() else \"cpu\")\n"
      ],
      "metadata": {
        "id": "OUnLA0ASMK4Z"
      },
      "execution_count": 1,
      "outputs": []
    },
    {
      "cell_type": "markdown",
      "source": [
        "# The next cell includes-\n",
        "- Collecting the CIFAR10 dataset and defining data loaders.\n",
        "- Methods to load model, criterion, optimizer and schedulers.\n",
        "- Definition of AverageMeter"
      ],
      "metadata": {
        "id": "s8hEreACXETi"
      }
    },
    {
      "cell_type": "code",
      "source": [
        "# Downloading CIFAR10 dataset\n",
        "inp_transforms = T.Compose([T.ToTensor(),\n",
        "                            T.Normalize(mean=[0.485, 0.456, 0.406],\n",
        "                                        std=[0.229, 0.224, 0.225])])\n",
        "tgt_transforms = T.Lambda(lambda y: torch.zeros(10, dtype=torch.long).scatter_(0, torch.tensor(y), value=1))\n",
        "cifar10 = datasets.CIFAR10(root = \"/.\",\n",
        "                           transform = inp_transforms,\n",
        "                           target_transform = tgt_transforms,\n",
        "                           download = True)\n",
        "\n",
        "# Defining dataset split (80-20)\n",
        "train_dataset, val_dataset = torch.utils.data.random_split(cifar10,\n",
        "                                                           [int(len(cifar10)*0.80), int(len(cifar10)*0.20)])\n",
        "\n",
        "# Defining the dataloaders\n",
        "train_dataloader = DataLoader(train_dataset,\n",
        "                              batch_size=200,\n",
        "                              shuffle=True)\n",
        "val_dataloader = DataLoader(val_dataset,\n",
        "                            batch_size=200,\n",
        "                            shuffle=False)\n",
        "\n",
        "\n",
        "# Method to get model based on config param model_type\n",
        "def get_model(model_type):\n",
        "    model = None\n",
        "    if model_type == \"pretrained\": # Loading pretrained ResNet18 and with updated to final fc layer. \n",
        "        model = models.resnet18(pretrained=True)\n",
        "        model.fc = nn.Linear(512, 10)\n",
        "        model = model.to(device)\n",
        "    elif model_type == \"scratch\": # Loading a blank ResNet18 which generated 10 outputs.\n",
        "        model = models.resnet18(num_classes=10)\n",
        "        model = model.to(device)\n",
        "    else:\n",
        "        raise NotImplemented\n",
        "    return model\n",
        "\n",
        "\n",
        "# Method to get criterion, optimizer and scheduler based on config params.\n",
        "def get_criterion_optimizer_scheduler(config, model):\n",
        "    optim_dct = {\n",
        "        \"adam\": optim.Adam,\n",
        "        \"SGD\": optim.SGD,\n",
        "        \"RMSprop\": optim.RMSprop\n",
        "    }\n",
        "    optimizer = optim_dct[config[\"optimizer\"]](model.parameters(), lr=config[\"lr\"])\n",
        "    scheduler = torch.optim.lr_scheduler.ReduceLROnPlateau(optimizer,\n",
        "                                                           factor=0.1,\n",
        "                                                           patience=config[\"scheduler_patience\"],\n",
        "                                                           threshold=config[\"scheduler_thresh\"])\n",
        "    criterion = nn.CrossEntropyLoss()\n",
        "    return criterion, optimizer, scheduler\n",
        "\n",
        "\n",
        "\n",
        "# Remainder of this cell includes definition of AverageMeter (can be ignored)\n",
        "\"\"\"\n",
        "Code taken from Pytorch ImageNet examples\n",
        "https://github.com/pytorch/examples/blob/main/imagenet/main.py#L375\n",
        "\"\"\"\n",
        "class Summary():\n",
        "    NONE = 0\n",
        "    AVERAGE = 1\n",
        "    SUM = 2\n",
        "    COUNT = 3\n",
        "\n",
        "class AverageMeter(object):\n",
        "    \"\"\"Computes and stores the average and current value\"\"\"\n",
        "    def __init__(self, name, fmt=':f', summary_type=Summary.AVERAGE):\n",
        "        self.name = name\n",
        "        self.fmt = fmt\n",
        "        self.summary_type = summary_type\n",
        "        self.val_history = list()\n",
        "        self.reset()\n",
        "\n",
        "    def reset(self):\n",
        "        self.val = 0\n",
        "        self.avg = 0\n",
        "        self.sum = 0\n",
        "        self.count = 0\n",
        "        self.val_history = list()\n",
        "\n",
        "    def update(self, val, n=1):\n",
        "        self.val = val\n",
        "        self.sum += val * n\n",
        "        self.count += n\n",
        "        self.avg = self.sum / self.count\n",
        "        self.val_history.append(val)\n",
        "\n",
        "    def __str__(self):\n",
        "        fmtstr = '{name} {val' + self.fmt + '} ({avg' + self.fmt + '})'\n",
        "        return fmtstr.format(**self.__dict__)\n",
        "    \n",
        "    def summary(self):\n",
        "        fmtstr = ''\n",
        "        if self.summary_type is Summary.NONE:\n",
        "            fmtstr = ''\n",
        "        elif self.summary_type is Summary.AVERAGE:\n",
        "            fmtstr = '{name} {avg:.3f}'\n",
        "        elif self.summary_type is Summary.SUM:\n",
        "            fmtstr = '{name} {sum:.3f}'\n",
        "        elif self.summary_type is Summary.COUNT:\n",
        "            fmtstr = '{name} {count:.3f}'\n",
        "        else:\n",
        "            raise ValueError('invalid summary type %r' % self.summary_type)        \n",
        "        return fmtstr.format(**self.__dict__)\n"
      ],
      "metadata": {
        "id": "N0IyFq2jMUTZ",
        "colab": {
          "base_uri": "https://localhost:8080/"
        },
        "outputId": "0018dcfa-302d-4e09-bd22-2c98054484eb"
      },
      "execution_count": 2,
      "outputs": [
        {
          "output_type": "stream",
          "name": "stdout",
          "text": [
            "Downloading https://www.cs.toronto.edu/~kriz/cifar-10-python.tar.gz to /./cifar-10-python.tar.gz\n"
          ]
        },
        {
          "output_type": "stream",
          "name": "stderr",
          "text": [
            "100%|██████████| 170498071/170498071 [00:01<00:00, 86761595.88it/s]\n"
          ]
        },
        {
          "output_type": "stream",
          "name": "stdout",
          "text": [
            "Extracting /./cifar-10-python.tar.gz to /.\n"
          ]
        }
      ]
    },
    {
      "cell_type": "markdown",
      "source": [
        "# Following cell includes-\n",
        "- Defining the train and eval loops.\n",
        "- Method to trigger training loops based on config parameters."
      ],
      "metadata": {
        "id": "UIEngQlXXfi6"
      }
    },
    {
      "cell_type": "code",
      "source": [
        "# The train function without wandb logging\n",
        "\n",
        "def train(model, criterion, optimizer, scheduler, epochs, train_dataloader, val_dataloader, device):\n",
        "    for epoch in range(epochs):\n",
        "        model.train()\n",
        "        loss_meter = AverageMeter(\"train_loss\", \":.5f\")\n",
        "        epoch_outs, epoch_tgt = list(), list()\n",
        "        for data, tgt_vec in tqdm(train_dataloader):\n",
        "            data, tgt_vec = data.to(device), tgt_vec.to(device)\n",
        "            targets = torch.argmax(tgt_vec, axis=1)\n",
        "            optimizer.zero_grad()\n",
        "            out = model(data)\n",
        "            loss = criterion(out, targets)\n",
        "            loss_meter.update(loss.item(), data.shape[0])\n",
        "            loss.backward()\n",
        "            optimizer.step()\n",
        "            epoch_outs.append(out)\n",
        "            epoch_tgt.append(tgt_vec)\n",
        "        predictions = torch.vstack([torch.softmax(out, axis=1) for out in epoch_outs]).detach().cpu().numpy()\n",
        "        targets = torch.cat([tgt for tgt in epoch_tgt], dim=0).detach().cpu().numpy()\n",
        "        ap_score = average_precision_score(targets, predictions)\n",
        "        eval_loss_meter, eval_ap_score = evaluate(model, criterion, val_dataloader, device)\n",
        "        data_to_log = {\n",
        "            \"epoch\": epoch+1,\n",
        "            \"train_loss\": loss_meter.avg,\n",
        "            \"eval_loss\": eval_loss_meter.avg,\n",
        "            \"train_ap_score\": ap_score,\n",
        "            \"eval_ap_score\": eval_ap_score,\n",
        "            \"lr\": optimizer.state_dict()[\"param_groups\"][0][\"lr\"],\n",
        "        }\n",
        "        scheduler.step(eval_loss_meter.avg)\n",
        "        print(data_to_log)\n",
        "        \n",
        "\n",
        "\n",
        "@torch.no_grad()\n",
        "def evaluate(model, criterion, val_dataloader, device):\n",
        "    model.eval()\n",
        "    loss_meter = AverageMeter(\"eval_loss\", \":.5f\")\n",
        "    epoch_outs, epoch_tgt = list(), list()\n",
        "    for data, tgt_vec in val_dataloader:\n",
        "        data, tgt_vec = data.to(device), tgt_vec.to(device)\n",
        "        targets = torch.argmax(tgt_vec, axis=1)\n",
        "        out = model(data)\n",
        "        loss = criterion(out, targets)\n",
        "        loss_meter.update(loss.item(), data.shape[0])\n",
        "        epoch_outs.append(out)\n",
        "        epoch_tgt.append(tgt_vec)\n",
        "    predictions = torch.vstack([torch.softmax(out, axis=1) for out in epoch_outs]).detach().cpu().numpy()\n",
        "    targets = torch.cat([tgt for tgt in epoch_tgt], dim=0).detach().cpu().numpy()\n",
        "    ap_score = average_precision_score(targets, predictions)\n",
        "    return loss_meter, ap_score\n",
        "\n",
        "\n",
        "def trigger_training(config):\n",
        "    model = get_model(config[\"model_type\"])\n",
        "    criterion, optimizer, scheduler = get_criterion_optimizer_scheduler(config, model)\n",
        "    epochs = config[\"num_epochs\"]\n",
        "\n",
        "    train(model, criterion, optimizer, scheduler, epochs, train_dataloader, val_dataloader, device)\n"
      ],
      "metadata": {
        "id": "jfchRAmxMcoF"
      },
      "execution_count": 3,
      "outputs": []
    },
    {
      "cell_type": "markdown",
      "source": [
        "# Complete the config file, edit the cells in this notebook to log data to wandb and trigger training loops!"
      ],
      "metadata": {
        "id": "Jtb0ll98YTB0"
      }
    },
    {
      "cell_type": "code",
      "source": [
        "# Fill the Config file below and log the experiment at wandb\n",
        "config = {\n",
        "    \"lr\": 0.0, \n",
        "    \"model_type\": \"scratch\", # pretrained/scratch\n",
        "    \"optimizer\": \"SGD\", # adam/SGD/RMSprop\n",
        "    \"criterion\": \"ce\",\n",
        "    \"scheduler_patience\": 3,\n",
        "    \"scheduler_thresh\": 0.001,\n",
        "    \"num_epochs\": 5, # CHANGE\n",
        "    \"gpu_id\": 0,\n",
        "    \"wandb_run_name\": \"DeafSpy\" ### FILL YOUR NAME HERE\n",
        "}\n"
      ],
      "metadata": {
        "id": "2XWOBnxhMkdl"
      },
      "execution_count": 11,
      "outputs": []
    },
    {
      "cell_type": "code",
      "source": [
        "logs = trigger_training(config)\n"
      ],
      "metadata": {
        "id": "BLGywkQ4NDMG",
        "colab": {
          "base_uri": "https://localhost:8080/"
        },
        "outputId": "8efb99bd-1166-467b-be2b-816ea3c8138c"
      },
      "execution_count": 12,
      "outputs": [
        {
          "output_type": "stream",
          "name": "stderr",
          "text": [
            "100%|██████████| 200/200 [00:16<00:00, 12.30it/s]\n"
          ]
        },
        {
          "output_type": "stream",
          "name": "stdout",
          "text": [
            "{'epoch': 1, 'train_loss': 2.6121673250198363, 'eval_loss': 2.6223618030548095, 'train_ap_score': 0.09586990352175055, 'eval_ap_score': 0.09630837712451573, 'lr': 0.0}\n"
          ]
        },
        {
          "output_type": "stream",
          "name": "stderr",
          "text": [
            "100%|██████████| 200/200 [00:15<00:00, 12.99it/s]\n"
          ]
        },
        {
          "output_type": "stream",
          "name": "stdout",
          "text": [
            "{'epoch': 2, 'train_loss': 2.6113621950149537, 'eval_loss': 2.6178168869018554, 'train_ap_score': 0.09597457049806499, 'eval_ap_score': 0.09648182590204175, 'lr': 0.0}\n"
          ]
        },
        {
          "output_type": "stream",
          "name": "stderr",
          "text": [
            "100%|██████████| 200/200 [00:19<00:00, 10.42it/s]\n"
          ]
        },
        {
          "output_type": "stream",
          "name": "stdout",
          "text": [
            "{'epoch': 3, 'train_loss': 2.612925395965576, 'eval_loss': 2.618176474571228, 'train_ap_score': 0.09590416435765645, 'eval_ap_score': 0.09676841501870921, 'lr': 0.0}\n"
          ]
        },
        {
          "output_type": "stream",
          "name": "stderr",
          "text": [
            "100%|██████████| 200/200 [00:16<00:00, 12.35it/s]\n"
          ]
        },
        {
          "output_type": "stream",
          "name": "stdout",
          "text": [
            "{'epoch': 4, 'train_loss': 2.611471564769745, 'eval_loss': 2.617351980209351, 'train_ap_score': 0.09598106560597251, 'eval_ap_score': 0.0964839701379921, 'lr': 0.0}\n"
          ]
        },
        {
          "output_type": "stream",
          "name": "stderr",
          "text": [
            "100%|██████████| 200/200 [00:15<00:00, 12.61it/s]\n"
          ]
        },
        {
          "output_type": "stream",
          "name": "stdout",
          "text": [
            "{'epoch': 5, 'train_loss': 2.6119293749332426, 'eval_loss': 2.615071907043457, 'train_ap_score': 0.09584674984179686, 'eval_ap_score': 0.0967355246086297, 'lr': 0.0}\n"
          ]
        }
      ]
    },
    {
      "cell_type": "code",
      "source": [
        "logs"
      ],
      "metadata": {
        "id": "RyGt96kZN60-"
      },
      "execution_count": 20,
      "outputs": []
    },
    {
      "cell_type": "code",
      "source": [],
      "metadata": {
        "id": "0RfnKkXnN7Sd"
      },
      "execution_count": 12,
      "outputs": []
    },
    {
      "cell_type": "code",
      "source": [],
      "metadata": {
        "id": "7XYU1R7SN7at"
      },
      "execution_count": 12,
      "outputs": []
    },
    {
      "cell_type": "markdown",
      "source": [
        "# WandB Steps"
      ],
      "metadata": {
        "id": "4br2c7d1N8ya"
      }
    },
    {
      "cell_type": "code",
      "source": [
        "!pip install wandb"
      ],
      "metadata": {
        "colab": {
          "base_uri": "https://localhost:8080/"
        },
        "id": "szvoUEV_YWwP",
        "outputId": "93e80add-cedd-44d3-d022-6bd30aea1223"
      },
      "execution_count": 13,
      "outputs": [
        {
          "output_type": "stream",
          "name": "stdout",
          "text": [
            "Looking in indexes: https://pypi.org/simple, https://us-python.pkg.dev/colab-wheels/public/simple/\n",
            "Collecting wandb\n",
            "  Downloading wandb-0.15.3-py3-none-any.whl (2.0 MB)\n",
            "\u001b[2K     \u001b[90m━━━━━━━━━━━━━━━━━━━━━━━━━━━━━━━━━━━━━━━━\u001b[0m \u001b[32m2.0/2.0 MB\u001b[0m \u001b[31m24.6 MB/s\u001b[0m eta \u001b[36m0:00:00\u001b[0m\n",
            "\u001b[?25hRequirement already satisfied: Click!=8.0.0,>=7.0 in /usr/local/lib/python3.10/dist-packages (from wandb) (8.1.3)\n",
            "Collecting GitPython!=3.1.29,>=1.0.0 (from wandb)\n",
            "  Downloading GitPython-3.1.31-py3-none-any.whl (184 kB)\n",
            "\u001b[2K     \u001b[90m━━━━━━━━━━━━━━━━━━━━━━━━━━━━━━━━━━━━━━\u001b[0m \u001b[32m184.3/184.3 kB\u001b[0m \u001b[31m17.1 MB/s\u001b[0m eta \u001b[36m0:00:00\u001b[0m\n",
            "\u001b[?25hRequirement already satisfied: requests<3,>=2.0.0 in /usr/local/lib/python3.10/dist-packages (from wandb) (2.27.1)\n",
            "Requirement already satisfied: psutil>=5.0.0 in /usr/local/lib/python3.10/dist-packages (from wandb) (5.9.5)\n",
            "Collecting sentry-sdk>=1.0.0 (from wandb)\n",
            "  Downloading sentry_sdk-1.24.0-py2.py3-none-any.whl (206 kB)\n",
            "\u001b[2K     \u001b[90m━━━━━━━━━━━━━━━━━━━━━━━━━━━━━━━━━━━━━━\u001b[0m \u001b[32m206.5/206.5 kB\u001b[0m \u001b[31m15.7 MB/s\u001b[0m eta \u001b[36m0:00:00\u001b[0m\n",
            "\u001b[?25hCollecting docker-pycreds>=0.4.0 (from wandb)\n",
            "  Downloading docker_pycreds-0.4.0-py2.py3-none-any.whl (9.0 kB)\n",
            "Requirement already satisfied: PyYAML in /usr/local/lib/python3.10/dist-packages (from wandb) (6.0)\n",
            "Collecting pathtools (from wandb)\n",
            "  Downloading pathtools-0.1.2.tar.gz (11 kB)\n",
            "  Preparing metadata (setup.py) ... \u001b[?25l\u001b[?25hdone\n",
            "Collecting setproctitle (from wandb)\n",
            "  Downloading setproctitle-1.3.2-cp310-cp310-manylinux_2_5_x86_64.manylinux1_x86_64.manylinux_2_17_x86_64.manylinux2014_x86_64.whl (30 kB)\n",
            "Requirement already satisfied: setuptools in /usr/local/lib/python3.10/dist-packages (from wandb) (67.7.2)\n",
            "Requirement already satisfied: appdirs>=1.4.3 in /usr/local/lib/python3.10/dist-packages (from wandb) (1.4.4)\n",
            "Requirement already satisfied: protobuf!=4.21.0,<5,>=3.19.0 in /usr/local/lib/python3.10/dist-packages (from wandb) (3.20.3)\n",
            "Requirement already satisfied: six>=1.4.0 in /usr/local/lib/python3.10/dist-packages (from docker-pycreds>=0.4.0->wandb) (1.16.0)\n",
            "Collecting gitdb<5,>=4.0.1 (from GitPython!=3.1.29,>=1.0.0->wandb)\n",
            "  Downloading gitdb-4.0.10-py3-none-any.whl (62 kB)\n",
            "\u001b[2K     \u001b[90m━━━━━━━━━━━━━━━━━━━━━━━━━━━━━━━━━━━━━━━━\u001b[0m \u001b[32m62.7/62.7 kB\u001b[0m \u001b[31m10.2 MB/s\u001b[0m eta \u001b[36m0:00:00\u001b[0m\n",
            "\u001b[?25hRequirement already satisfied: urllib3<1.27,>=1.21.1 in /usr/local/lib/python3.10/dist-packages (from requests<3,>=2.0.0->wandb) (1.26.15)\n",
            "Requirement already satisfied: certifi>=2017.4.17 in /usr/local/lib/python3.10/dist-packages (from requests<3,>=2.0.0->wandb) (2022.12.7)\n",
            "Requirement already satisfied: charset-normalizer~=2.0.0 in /usr/local/lib/python3.10/dist-packages (from requests<3,>=2.0.0->wandb) (2.0.12)\n",
            "Requirement already satisfied: idna<4,>=2.5 in /usr/local/lib/python3.10/dist-packages (from requests<3,>=2.0.0->wandb) (3.4)\n",
            "Collecting smmap<6,>=3.0.1 (from gitdb<5,>=4.0.1->GitPython!=3.1.29,>=1.0.0->wandb)\n",
            "  Downloading smmap-5.0.0-py3-none-any.whl (24 kB)\n",
            "Building wheels for collected packages: pathtools\n",
            "  Building wheel for pathtools (setup.py) ... \u001b[?25l\u001b[?25hdone\n",
            "  Created wheel for pathtools: filename=pathtools-0.1.2-py3-none-any.whl size=8791 sha256=8a52476b8bf893492e8c95b9000bcf80e7d74ca98dbb0ccd8c733ec6f253dd1d\n",
            "  Stored in directory: /root/.cache/pip/wheels/e7/f3/22/152153d6eb222ee7a56ff8617d80ee5207207a8c00a7aab794\n",
            "Successfully built pathtools\n",
            "Installing collected packages: pathtools, smmap, setproctitle, sentry-sdk, docker-pycreds, gitdb, GitPython, wandb\n",
            "Successfully installed GitPython-3.1.31 docker-pycreds-0.4.0 gitdb-4.0.10 pathtools-0.1.2 sentry-sdk-1.24.0 setproctitle-1.3.2 smmap-5.0.0 wandb-0.15.3\n"
          ]
        }
      ]
    },
    {
      "cell_type": "code",
      "source": [
        "### Step 1: Import WandB in your code\n",
        "\n",
        "import wandb\n",
        "\n",
        "### Step 1 ends"
      ],
      "metadata": {
        "id": "gg1VnOOBOAGe"
      },
      "execution_count": 14,
      "outputs": []
    },
    {
      "cell_type": "code",
      "source": [
        "### Step 2:\n",
        "# Initiate wandb in your script. The moment we trigger wandb.init(), an active\n",
        "# socket connection is established between your machine and wandb server.\n",
        "# We specify the entity (wandb username) and project (which wandb project to use for logging)\n",
        "\n",
        "wandb.init(entity = \"dhruv_sri\",   # wandb username. (NOT REQUIRED ARG. ANYMORE, it fetches from initial login)\n",
        "           project = \"wandb_demo\", # wandb project name. New project will be created if given project is missing.\n",
        "           config = config         # Config dict\n",
        "          )\n",
        "wandb.run.name = config[\"wandb_run_name\"]\n",
        "\n",
        "### Step 2 ends.\n"
      ],
      "metadata": {
        "id": "2oIAE7tpOBH_",
        "colab": {
          "base_uri": "https://localhost:8080/",
          "height": 193
        },
        "outputId": "b838d5ef-b692-4af0-c7ac-b6f323657c7f"
      },
      "execution_count": 15,
      "outputs": [
        {
          "output_type": "display_data",
          "data": {
            "text/plain": [
              "<IPython.core.display.Javascript object>"
            ],
            "application/javascript": [
              "\n",
              "        window._wandbApiKey = new Promise((resolve, reject) => {\n",
              "            function loadScript(url) {\n",
              "            return new Promise(function(resolve, reject) {\n",
              "                let newScript = document.createElement(\"script\");\n",
              "                newScript.onerror = reject;\n",
              "                newScript.onload = resolve;\n",
              "                document.body.appendChild(newScript);\n",
              "                newScript.src = url;\n",
              "            });\n",
              "            }\n",
              "            loadScript(\"https://cdn.jsdelivr.net/npm/postmate/build/postmate.min.js\").then(() => {\n",
              "            const iframe = document.createElement('iframe')\n",
              "            iframe.style.cssText = \"width:0;height:0;border:none\"\n",
              "            document.body.appendChild(iframe)\n",
              "            const handshake = new Postmate({\n",
              "                container: iframe,\n",
              "                url: 'https://wandb.ai/authorize'\n",
              "            });\n",
              "            const timeout = setTimeout(() => reject(\"Couldn't auto authenticate\"), 5000)\n",
              "            handshake.then(function(child) {\n",
              "                child.on('authorize', data => {\n",
              "                    clearTimeout(timeout)\n",
              "                    resolve(data)\n",
              "                });\n",
              "            });\n",
              "            })\n",
              "        });\n",
              "    "
            ]
          },
          "metadata": {}
        },
        {
          "output_type": "stream",
          "name": "stderr",
          "text": [
            "\u001b[34m\u001b[1mwandb\u001b[0m: Logging into wandb.ai. (Learn how to deploy a W&B server locally: https://wandb.me/wandb-server)\n",
            "\u001b[34m\u001b[1mwandb\u001b[0m: You can find your API key in your browser here: https://wandb.ai/authorize\n",
            "wandb: Paste an API key from your profile and hit enter, or press ctrl+c to quit:"
          ]
        },
        {
          "name": "stdout",
          "output_type": "stream",
          "text": [
            " ··········\n"
          ]
        },
        {
          "output_type": "stream",
          "name": "stderr",
          "text": [
            "\u001b[34m\u001b[1mwandb\u001b[0m: Appending key for api.wandb.ai to your netrc file: /root/.netrc\n"
          ]
        },
        {
          "output_type": "display_data",
          "data": {
            "text/plain": [
              "<IPython.core.display.HTML object>"
            ],
            "text/html": [
              "Tracking run with wandb version 0.15.3"
            ]
          },
          "metadata": {}
        },
        {
          "output_type": "display_data",
          "data": {
            "text/plain": [
              "<IPython.core.display.HTML object>"
            ],
            "text/html": [
              "Run data is saved locally in <code>/content/wandb/run-20230527_085517-jz90fwav</code>"
            ]
          },
          "metadata": {}
        },
        {
          "output_type": "display_data",
          "data": {
            "text/plain": [
              "<IPython.core.display.HTML object>"
            ],
            "text/html": [
              "Syncing run <strong><a href='https://wandb.ai/dhruv_sri/wandb_demo/runs/jz90fwav' target=\"_blank\">swept-dust-130</a></strong> to <a href='https://wandb.ai/dhruv_sri/wandb_demo' target=\"_blank\">Weights & Biases</a> (<a href='https://wandb.me/run' target=\"_blank\">docs</a>)<br/>"
            ]
          },
          "metadata": {}
        },
        {
          "output_type": "display_data",
          "data": {
            "text/plain": [
              "<IPython.core.display.HTML object>"
            ],
            "text/html": [
              " View project at <a href='https://wandb.ai/dhruv_sri/wandb_demo' target=\"_blank\">https://wandb.ai/dhruv_sri/wandb_demo</a>"
            ]
          },
          "metadata": {}
        },
        {
          "output_type": "display_data",
          "data": {
            "text/plain": [
              "<IPython.core.display.HTML object>"
            ],
            "text/html": [
              " View run at <a href='https://wandb.ai/dhruv_sri/wandb_demo/runs/jz90fwav' target=\"_blank\">https://wandb.ai/dhruv_sri/wandb_demo/runs/jz90fwav</a>"
            ]
          },
          "metadata": {}
        }
      ]
    },
    {
      "cell_type": "code",
      "source": [
        "\n",
        "# with wandb\n",
        "def train(model, criterion, optimizer, scheduler, epochs, train_dataloader, val_dataloader, device):\n",
        "    for epoch in range(epochs):\n",
        "        model.train()\n",
        "        loss_meter = AverageMeter(\"train_loss\", \":.5f\")\n",
        "        epoch_outs, epoch_tgt = list(), list()\n",
        "        for data, tgt_vec in tqdm(train_dataloader):\n",
        "            data, tgt_vec = data.to(device), tgt_vec.to(device)\n",
        "            targets = torch.argmax(tgt_vec, axis=1)\n",
        "            optimizer.zero_grad()\n",
        "            out = model(data)\n",
        "            loss = criterion(out, targets)\n",
        "            loss_meter.update(loss.item(), data.shape[0])\n",
        "            loss.backward()\n",
        "            optimizer.step()\n",
        "            epoch_outs.append(out)\n",
        "            epoch_tgt.append(tgt_vec)\n",
        "        predictions = torch.vstack([torch.softmax(out, axis=1) for out in epoch_outs]).detach().cpu().numpy()\n",
        "        targets = torch.cat([tgt for tgt in epoch_tgt], dim=0).detach().cpu().numpy()\n",
        "        ap_score = average_precision_score(targets, predictions)\n",
        "        eval_loss_meter, eval_ap_score = evaluate(model, criterion, val_dataloader, device)\n",
        "        data_to_log = {\n",
        "            \"epoch\": epoch+1,\n",
        "            \"train_loss\": loss_meter.avg,\n",
        "            \"eval_loss\": eval_loss_meter.avg,\n",
        "            \"train_ap_score\": ap_score,\n",
        "            \"eval_ap_score\": eval_ap_score,\n",
        "            \"lr\": optimizer.state_dict()[\"param_groups\"][0][\"lr\"],\n",
        "        }\n",
        "        scheduler.step(eval_loss_meter.avg)\n",
        "        print(data_to_log)\n",
        "        wandb.log(data_to_log)\n",
        "\n",
        "\n",
        "        \n"
      ],
      "metadata": {
        "id": "1u1MT1lHN7id"
      },
      "execution_count": 22,
      "outputs": []
    },
    {
      "cell_type": "code",
      "source": [
        "### Step 3: Trigger wandb log\n",
        "# This step is responsible for sending the logs to wandb\n",
        "\n",
        "# wandb.log(data_to_log)\n",
        "# wandb.log(logs)\n",
        "trigger_training(config)\n",
        "\n",
        "### Step 3 ends.\n"
      ],
      "metadata": {
        "id": "P_c8_juPOC6o",
        "colab": {
          "base_uri": "https://localhost:8080/"
        },
        "outputId": "c2cce59d-b2c8-4729-b659-c1dc0bebeefd"
      },
      "execution_count": 23,
      "outputs": [
        {
          "output_type": "stream",
          "name": "stderr",
          "text": [
            "100%|██████████| 200/200 [00:16<00:00, 12.17it/s]\n"
          ]
        },
        {
          "output_type": "stream",
          "name": "stdout",
          "text": [
            "{'epoch': 1, 'train_loss': 2.5488260221481323, 'eval_loss': 2.5454543161392214, 'train_ap_score': 0.0964605902520718, 'eval_ap_score': 0.09681210689878099, 'lr': 0.0}\n"
          ]
        },
        {
          "output_type": "stream",
          "name": "stderr",
          "text": [
            "100%|██████████| 200/200 [00:16<00:00, 12.19it/s]\n"
          ]
        },
        {
          "output_type": "stream",
          "name": "stdout",
          "text": [
            "{'epoch': 2, 'train_loss': 2.548868427276611, 'eval_loss': 2.5438941383361815, 'train_ap_score': 0.09660769741713146, 'eval_ap_score': 0.09692571856864027, 'lr': 0.0}\n"
          ]
        },
        {
          "output_type": "stream",
          "name": "stderr",
          "text": [
            "100%|██████████| 200/200 [00:17<00:00, 11.29it/s]\n"
          ]
        },
        {
          "output_type": "stream",
          "name": "stdout",
          "text": [
            "{'epoch': 3, 'train_loss': 2.5486118924617767, 'eval_loss': 2.546280069351196, 'train_ap_score': 0.09670727821120961, 'eval_ap_score': 0.09677012791898944, 'lr': 0.0}\n"
          ]
        },
        {
          "output_type": "stream",
          "name": "stderr",
          "text": [
            "100%|██████████| 200/200 [00:16<00:00, 11.81it/s]\n"
          ]
        },
        {
          "output_type": "stream",
          "name": "stdout",
          "text": [
            "{'epoch': 4, 'train_loss': 2.548195925951004, 'eval_loss': 2.546732659339905, 'train_ap_score': 0.09677725060826162, 'eval_ap_score': 0.09669797484665624, 'lr': 0.0}\n"
          ]
        },
        {
          "output_type": "stream",
          "name": "stderr",
          "text": [
            "100%|██████████| 200/200 [00:17<00:00, 11.58it/s]\n"
          ]
        },
        {
          "output_type": "stream",
          "name": "stdout",
          "text": [
            "{'epoch': 5, 'train_loss': 2.5483759248256685, 'eval_loss': 2.5432587623596192, 'train_ap_score': 0.09679393498379227, 'eval_ap_score': 0.09694530755298585, 'lr': 0.0}\n"
          ]
        }
      ]
    },
    {
      "cell_type": "code",
      "source": [
        "### Step 4 (Optional)\n",
        "# This closes the active socket connection to wandb server. Optional since wandb destructor does the same.\n",
        "\n",
        "wandb.finish()\n",
        "\n",
        "### Step 4 ends.\n"
      ],
      "metadata": {
        "id": "JnQzf5xHOEKR",
        "colab": {
          "base_uri": "https://localhost:8080/",
          "height": 377,
          "referenced_widgets": [
            "bfe0693f27ab461e8bb28a1672cd4c8e",
            "4b7c74e2d0de4e1cbfdda20faa4826bd",
            "a6d9ca4ddbc94d25a155bc9fdbd96f76",
            "83dba7ae5878496e82f2a86670857da7",
            "66adf30f6d4d4df8b1487de307686a46",
            "35870fa00eb14c9395a59a1f88ac529c",
            "3a28dee2bfe44bbbaebfcadf9e797f21",
            "45645f14d1914c659b80b46b4040d4de"
          ]
        },
        "outputId": "a415af6f-fece-4d71-8fd4-ca34caad2fa2"
      },
      "execution_count": 24,
      "outputs": [
        {
          "output_type": "display_data",
          "data": {
            "text/plain": [
              "<IPython.core.display.HTML object>"
            ],
            "text/html": [
              "Waiting for W&B process to finish... <strong style=\"color:green\">(success).</strong>"
            ]
          },
          "metadata": {}
        },
        {
          "output_type": "display_data",
          "data": {
            "text/plain": [
              "VBox(children=(Label(value='0.001 MB of 0.001 MB uploaded (0.000 MB deduped)\\r'), FloatProgress(value=1.0, max…"
            ],
            "application/vnd.jupyter.widget-view+json": {
              "version_major": 2,
              "version_minor": 0,
              "model_id": "bfe0693f27ab461e8bb28a1672cd4c8e"
            }
          },
          "metadata": {}
        },
        {
          "output_type": "display_data",
          "data": {
            "text/plain": [
              "<IPython.core.display.HTML object>"
            ],
            "text/html": [
              "<style>\n",
              "    table.wandb td:nth-child(1) { padding: 0 10px; text-align: left ; width: auto;} td:nth-child(2) {text-align: left ; width: 100%}\n",
              "    .wandb-row { display: flex; flex-direction: row; flex-wrap: wrap; justify-content: flex-start; width: 100% }\n",
              "    .wandb-col { display: flex; flex-direction: column; flex-basis: 100%; flex: 1; padding: 10px; }\n",
              "    </style>\n",
              "<div class=\"wandb-row\"><div class=\"wandb-col\"><h3>Run history:</h3><br/><table class=\"wandb\"><tr><td>epoch</td><td>▁▃▅▆█</td></tr><tr><td>eval_ap_score</td><td>▄▇▃▁█</td></tr><tr><td>eval_loss</td><td>▅▂▇█▁</td></tr><tr><td>lr</td><td>▁▁▁▁▁</td></tr><tr><td>train_ap_score</td><td>▁▄▆██</td></tr><tr><td>train_loss</td><td>██▅▁▃</td></tr></table><br/></div><div class=\"wandb-col\"><h3>Run summary:</h3><br/><table class=\"wandb\"><tr><td>epoch</td><td>5</td></tr><tr><td>eval_ap_score</td><td>0.09695</td></tr><tr><td>eval_loss</td><td>2.54326</td></tr><tr><td>lr</td><td>0.0</td></tr><tr><td>train_ap_score</td><td>0.09679</td></tr><tr><td>train_loss</td><td>2.54838</td></tr></table><br/></div></div>"
            ]
          },
          "metadata": {}
        },
        {
          "output_type": "display_data",
          "data": {
            "text/plain": [
              "<IPython.core.display.HTML object>"
            ],
            "text/html": [
              " View run <strong style=\"color:#cdcd00\">swept-dust-130</strong> at: <a href='https://wandb.ai/dhruv_sri/wandb_demo/runs/jz90fwav' target=\"_blank\">https://wandb.ai/dhruv_sri/wandb_demo/runs/jz90fwav</a><br/>Synced 5 W&B file(s), 0 media file(s), 0 artifact file(s) and 0 other file(s)"
            ]
          },
          "metadata": {}
        },
        {
          "output_type": "display_data",
          "data": {
            "text/plain": [
              "<IPython.core.display.HTML object>"
            ],
            "text/html": [
              "Find logs at: <code>./wandb/run-20230527_085517-jz90fwav/logs</code>"
            ]
          },
          "metadata": {}
        }
      ]
    },
    {
      "cell_type": "code",
      "source": [],
      "metadata": {
        "id": "-fQ5XateZfx3"
      },
      "execution_count": null,
      "outputs": []
    },
    {
      "cell_type": "code",
      "source": [],
      "metadata": {
        "id": "GY131mhVZfvc"
      },
      "execution_count": null,
      "outputs": []
    },
    {
      "cell_type": "markdown",
      "source": [
        "# WandB sweeps related steps"
      ],
      "metadata": {
        "id": "UiUK11qqZQZS"
      }
    },
    {
      "cell_type": "code",
      "source": [
        "# ### Step 1:\n",
        "# # Create a WandB sweep config file.\n",
        "# # This config file will be used at the WandB website to initialize a sweep server\n",
        "sweep_configuration = {\n",
        "  \"program\": \"demo.py\",\n",
        "  \"method\": \"grid\",\n",
        "  \"metric\":\n",
        "    {\n",
        "        \"name\": \"eval_ap_score\",\n",
        "        \"goal\": \"maximize\"\n",
        "    },\n",
        "  \"parameters\": {\n",
        "      \"criterion\": \n",
        "        { \"value\": \"ce\" },\n",
        "      \"gpu_id\":\n",
        "        { \"value\": 0 },\n",
        "      \"lr\":\n",
        "        { \"values\": [0.1, 0.001, 0.0001] },\n",
        "      \"model_type\":\n",
        "        { \"values\": [\"scratch\", \"pretrained\"]},\n",
        "      \"num_epochs\":\n",
        "        { \"value\": 25 },\n",
        "      \"optimizer\":\n",
        "        { \"values\": [\"adam\", \"SGD\", \"RMSprop\"] },\n",
        "      \"scheduler_patience\":\n",
        "        {\"value\": 3},\n",
        "      \"scheduler_thresh\":\n",
        "        { \"value\": 0.01 }\n",
        "  }\n",
        "}\n",
        "\n",
        "# sweep_configuration = {\n",
        "#   \"program\": \"demo.py\",\n",
        "#   \"method\": \"grid\",\n",
        "#   \"metric\":\n",
        "#     {\n",
        "#         \"name\": \"eval_ap_score\",\n",
        "#         \"goal\": \"maximize\"\n",
        "#     },\n",
        "#   \"parameters\": {\n",
        "#       \"criterion\": \n",
        "#         { \"value\": \"ce\" },\n",
        "#       \"gpu_id\":\n",
        "#         { \"value\": 0 },\n",
        "#       \"lr\":\n",
        "#         { \"values\": [0.1, 0.001, 0.0001] },\n",
        "#       \"model_type\":\n",
        "#         { \"values\": \"scratch\" },\n",
        "#       \"num_epochs\":\n",
        "#         { \"value\": 6 },\n",
        "#       \"optimizer\":\n",
        "#         { \"values\": \"SGD\" },\n",
        "#       \"scheduler_patience\":\n",
        "#         {\"value\": 3},\n",
        "#       \"scheduler_thresh\":\n",
        "#         { \"value\": 0.01 }\n",
        "#   }\n",
        "# }\n",
        "        \n",
        "        \n",
        "### A sample sweep config file if bayes method is used-\n",
        "# program: wandb_demo.py\n",
        "# method: bayes\n",
        "# metric:\n",
        "#   name: \"eval_ap_score\"\n",
        "#   goal: maximize\n",
        "# parameters:\n",
        "#   lr:\n",
        "#     distribution: uniform\n",
        "#     min: 0.00001\n",
        "#     max: 0.1\n",
        "#   criterion:\n",
        "#     distribution: categorical\n",
        "#     value:\n",
        "#       - ce\n",
        "#   optimizer:\n",
        "#     distribution: categorical\n",
        "#     values:\n",
        "#       - adam\n",
        "#       - SGD\n",
        "#       - RMSprop\n",
        "#   model_type:\n",
        "#     distribution: categorical\n",
        "#     values:\n",
        "#       - pretrained\n",
        "#       - scratch\n",
        "#   num_epochs:\n",
        "#     value:\n",
        "#       - 30\n",
        "#   scheduler_thresh:\n",
        "#     distribution: uniform\n",
        "#     min: 0.001\n",
        "#     max: 0.01\n",
        "#   scheduler_patience:\n",
        "#     distribution: int_uniform\n",
        "#     min: 2\n",
        "#     max: 10\n"
      ],
      "metadata": {
        "id": "tMbRxfDwZT8r"
      },
      "execution_count": 36,
      "outputs": []
    },
    {
      "cell_type": "code",
      "source": [
        "### Step 3\n",
        "# Notice in above command we mentioned an argument named \"function\"\n",
        "# Wandb agents must trigger a function where they can initiate a socket to wandb and get a config.\n",
        "# So, we will use the following sweep_agent_manager function here-\n",
        "\n",
        "def sweep_agent_manager():\n",
        "    wandb.init()\n",
        "    config = dict(wandb.config)\n",
        "    run_name = f\"{config['model_type']}_{config['optimizer']}_{config['lr']}\"\n",
        "    wandb.run.name = run_name\n",
        "    trigger_training(config)\n"
      ],
      "metadata": {
        "id": "bqY9TPyJZTx1"
      },
      "execution_count": 26,
      "outputs": []
    },
    {
      "cell_type": "code",
      "source": [
        "### Step 2\n",
        "# After using the above config on wandb website, you will get a sweep id in return.\n",
        "# E.g. sweep id- dhruv_sri/wandb_demo/hbyp0tl8\n",
        "#\n",
        "# Add the following agent line in your code-\n",
        "# Use the generated sweep id in the below code\n",
        "sweep_id = wandb.sweep(sweep_configuration)\n",
        "print(sweep_id)\n",
        "\n",
        "wandb.agent(sweep_id=sweep_id, function=sweep_agent_manager, count=100)\n"
      ],
      "metadata": {
        "id": "8yEkgDnGZT2X",
        "colab": {
          "base_uri": "https://localhost:8080/",
          "height": 1000
        },
        "outputId": "c59c1bdb-3d4c-4169-a8f5-64c5d1a736cf"
      },
      "execution_count": 37,
      "outputs": [
        {
          "output_type": "stream",
          "name": "stderr",
          "text": [
            "  9%|▉         | 18/200 [00:01<00:14, 12.92it/s]\u001b[34m\u001b[1mwandb\u001b[0m: \u001b[33mWARNING\u001b[0m Calling wandb.login() after wandb.init() has no effect.\n",
            " 10%|█         | 20/200 [00:01<00:14, 12.69it/s]"
          ]
        },
        {
          "output_type": "stream",
          "name": "stdout",
          "text": [
            "Create sweep with ID: p8uogj8h\n",
            "Sweep URL: https://wandb.ai/dhruv_sri/wandb_demo/sweeps/p8uogj8h\n",
            "p8uogj8h\n"
          ]
        },
        {
          "output_type": "stream",
          "name": "stderr",
          "text": [
            " 30%|███       | 60/200 [00:04<00:10, 13.03it/s]Exception in thread ChkStopThr:\n",
            "Traceback (most recent call last):\n",
            "  File \"/usr/lib/python3.10/threading.py\", line 1016, in _bootstrap_inner\n",
            "    self.run()\n",
            "  File \"/usr/lib/python3.10/threading.py\", line 953, in run\n",
            "    self._target(*self._args, **self._kwargs)\n",
            "  File \"/usr/local/lib/python3.10/dist-packages/wandb/sdk/wandb_run.py\", line 278, in check_stop_status\n",
            "Exception in thread NetStatThr    self._loop_check_status(\n",
            "  File \"/usr/local/lib/python3.10/dist-packages/wandb/sdk/wandb_run.py\", line 216, in _loop_check_status\n",
            ":\n",
            "Traceback (most recent call last):\n",
            "  File \"/usr/lib/python3.10/threading.py\", line 1016, in _bootstrap_inner\n",
            "    local_handle = request()\n",
            "  File \"/usr/local/lib/python3.10/dist-packages/wandb/sdk/interface/interface.py\", line 787, in deliver_stop_status\n",
            "    self.run()\n",
            "  File \"/usr/lib/python3.10/threading.py\", line 953, in run\n",
            "        self._target(*self._args, **self._kwargs)return self._deliver_stop_status(status)\n",
            "  File \"/usr/local/lib/python3.10/dist-packages/wandb/sdk/interface/interface_shared.py\", line 585, in _deliver_stop_status\n",
            "\n",
            "  File \"/usr/local/lib/python3.10/dist-packages/wandb/sdk/wandb_run.py\", line 260, in check_network_status\n",
            "    return self._deliver_record(record)\n",
            "  File \"/usr/local/lib/python3.10/dist-packages/wandb/sdk/interface/interface_shared.py\", line 560, in _deliver_record\n",
            "    self._loop_check_status(\n",
            "  File \"/usr/local/lib/python3.10/dist-packages/wandb/sdk/wandb_run.py\", line 216, in _loop_check_status\n",
            "    local_handle = request()\n",
            "  File \"/usr/local/lib/python3.10/dist-packages/wandb/sdk/interface/interface.py\", line 795, in deliver_network_status\n",
            "        handle = mailbox._deliver_record(record, interface=self)return self._deliver_network_status(status)\n",
            "  File \"/usr/local/lib/python3.10/dist-packages/wandb/sdk/interface/interface_shared.py\", line 601, in _deliver_network_status\n",
            "    return self._deliver_record(record)\n",
            "  File \"/usr/local/lib/python3.10/dist-packages/wandb/sdk/interface/interface_shared.py\", line 560, in _deliver_record\n",
            "\n",
            "  File \"/usr/local/lib/python3.10/dist-packages/wandb/sdk/lib/mailbox.py\", line 455, in _deliver_record\n",
            "    handle = mailbox._deliver_record(record, interface=self)\n",
            "  File \"/usr/local/lib/python3.10/dist-packages/wandb/sdk/lib/mailbox.py\", line 455, in _deliver_record\n",
            "    interface._publish(record)\n",
            "  File \"/usr/local/lib/python3.10/dist-packages/wandb/sdk/interface/interface_sock.py\", line 51, in _publish\n",
            "    interface._publish(record)\n",
            "  File \"/usr/local/lib/python3.10/dist-packages/wandb/sdk/interface/interface_sock.py\", line 51, in _publish\n",
            "    self._sock_client.send_record_publish(record)\n",
            "  File \"/usr/local/lib/python3.10/dist-packages/wandb/sdk/lib/sock_client.py\", line 221, in send_record_publish\n",
            "    self._sock_client.send_record_publish(record)\n",
            "  File \"/usr/local/lib/python3.10/dist-packages/wandb/sdk/lib/sock_client.py\", line 221, in send_record_publish\n",
            "    self.send_server_request(server_req)    \n",
            "  File \"/usr/local/lib/python3.10/dist-packages/wandb/sdk/lib/sock_client.py\", line 155, in send_server_request\n",
            "self.send_server_request(server_req)\n",
            "  File \"/usr/local/lib/python3.10/dist-packages/wandb/sdk/lib/sock_client.py\", line 155, in send_server_request\n",
            "    self._send_message(msg)\n",
            "  File \"/usr/local/lib/python3.10/dist-packages/wandb/sdk/lib/sock_client.py\", line 152, in _send_message\n",
            "    self._sendall_with_error_handle(header + data)\n",
            "  File \"/usr/local/lib/python3.10/dist-packages/wandb/sdk/lib/sock_client.py\", line 130, in _sendall_with_error_handle\n",
            "    sent = self._sock.send(data)\n",
            "BrokenPipeError: [Errno 32] Broken pipe\n",
            "    self._send_message(msg)\n",
            "  File \"/usr/local/lib/python3.10/dist-packages/wandb/sdk/lib/sock_client.py\", line 152, in _send_message\n",
            "    self._sendall_with_error_handle(header + data)\n",
            "  File \"/usr/local/lib/python3.10/dist-packages/wandb/sdk/lib/sock_client.py\", line 130, in _sendall_with_error_handle\n",
            "    sent = self._sock.send(data)\n",
            "BrokenPipeError: [Errno 32] Broken pipe\n",
            " 31%|███       | 62/200 [00:04<00:12, 11.27it/s]\u001b[34m\u001b[1mwandb\u001b[0m: Agent Starting Run: sis1v8c4 with config:\n",
            "\u001b[34m\u001b[1mwandb\u001b[0m: \tcriterion: ce\n",
            "\u001b[34m\u001b[1mwandb\u001b[0m: \tgpu_id: 0\n",
            "\u001b[34m\u001b[1mwandb\u001b[0m: \tlr: 0.1\n",
            "\u001b[34m\u001b[1mwandb\u001b[0m: \tmodel_type: scratch\n",
            "\u001b[34m\u001b[1mwandb\u001b[0m: \tnum_epochs: 25\n",
            "\u001b[34m\u001b[1mwandb\u001b[0m: \toptimizer: adam\n",
            "\u001b[34m\u001b[1mwandb\u001b[0m: \tscheduler_patience: 3\n",
            "\u001b[34m\u001b[1mwandb\u001b[0m: \tscheduler_thresh: 0.01\n",
            " 58%|█████▊    | 117/200 [00:09<00:07, 10.43it/s]"
          ]
        },
        {
          "output_type": "display_data",
          "data": {
            "text/plain": [
              "<IPython.core.display.HTML object>"
            ],
            "text/html": [
              "Tracking run with wandb version 0.15.3"
            ]
          },
          "metadata": {}
        },
        {
          "output_type": "display_data",
          "data": {
            "text/plain": [
              "<IPython.core.display.HTML object>"
            ],
            "text/html": [
              "Run data is saved locally in <code>/content/wandb/run-20230527_093301-sis1v8c4</code>"
            ]
          },
          "metadata": {}
        },
        {
          "output_type": "display_data",
          "data": {
            "text/plain": [
              "<IPython.core.display.HTML object>"
            ],
            "text/html": [
              "Syncing run <strong><a href='https://wandb.ai/dhruv_sri/wandb_demo/runs/sis1v8c4' target=\"_blank\">helpful-sweep-1</a></strong> to <a href='https://wandb.ai/dhruv_sri/wandb_demo' target=\"_blank\">Weights & Biases</a> (<a href='https://wandb.me/run' target=\"_blank\">docs</a>)<br/>Sweep page: <a href='https://wandb.ai/dhruv_sri/wandb_demo/sweeps/p8uogj8h' target=\"_blank\">https://wandb.ai/dhruv_sri/wandb_demo/sweeps/p8uogj8h</a>"
            ]
          },
          "metadata": {}
        },
        {
          "output_type": "display_data",
          "data": {
            "text/plain": [
              "<IPython.core.display.HTML object>"
            ],
            "text/html": [
              " View project at <a href='https://wandb.ai/dhruv_sri/wandb_demo' target=\"_blank\">https://wandb.ai/dhruv_sri/wandb_demo</a>"
            ]
          },
          "metadata": {}
        },
        {
          "output_type": "display_data",
          "data": {
            "text/plain": [
              "<IPython.core.display.HTML object>"
            ],
            "text/html": [
              " View sweep at <a href='https://wandb.ai/dhruv_sri/wandb_demo/sweeps/p8uogj8h' target=\"_blank\">https://wandb.ai/dhruv_sri/wandb_demo/sweeps/p8uogj8h</a>"
            ]
          },
          "metadata": {}
        },
        {
          "output_type": "display_data",
          "data": {
            "text/plain": [
              "<IPython.core.display.HTML object>"
            ],
            "text/html": [
              " View run at <a href='https://wandb.ai/dhruv_sri/wandb_demo/runs/sis1v8c4' target=\"_blank\">https://wandb.ai/dhruv_sri/wandb_demo/runs/sis1v8c4</a>"
            ]
          },
          "metadata": {}
        },
        {
          "output_type": "stream",
          "name": "stderr",
          "text": [
            " 60%|██████    | 120/200 [00:10<00:11,  6.87it/s]\n",
            " 60%|██████    | 121/200 [00:10<00:13,  5.83it/s]\n",
            " 61%|██████    | 122/200 [00:10<00:13,  5.60it/s]\n",
            " 62%|██████▏   | 123/200 [00:11<00:14,  5.26it/s]\n",
            " 62%|██████▏   | 124/200 [00:11<00:14,  5.29it/s]\n",
            " 62%|██████▎   | 125/200 [00:11<00:14,  5.06it/s]\n",
            " 63%|██████▎   | 126/200 [00:11<00:15,  4.81it/s]\n",
            " 64%|██████▎   | 127/200 [00:12<00:15,  4.72it/s]\n",
            " 64%|██████▍   | 128/200 [00:12<00:16,  4.46it/s]\n",
            " 64%|██████▍   | 129/200 [00:12<00:16,  4.30it/s]\n",
            " 65%|██████▌   | 130/200 [00:12<00:20,  3.39it/s]\n",
            " 66%|██████▌   | 131/200 [00:13<00:18,  3.67it/s]\n",
            " 66%|██████▌   | 132/200 [00:13<00:17,  3.87it/s]\n",
            " 66%|██████▋   | 133/200 [00:13<00:16,  4.10it/s]\n",
            " 67%|██████▋   | 134/200 [00:13<00:15,  4.28it/s]\n",
            " 68%|██████▊   | 136/200 [00:14<00:14,  4.49it/s]\n",
            " 68%|██████▊   | 137/200 [00:14<00:14,  4.48it/s]\n",
            " 69%|██████▉   | 138/200 [00:14<00:14,  4.39it/s]\n",
            " 70%|██████▉   | 139/200 [00:14<00:14,  4.27it/s]\n",
            " 70%|███████   | 140/200 [00:15<00:13,  4.31it/s]\n",
            " 70%|███████   | 141/200 [00:15<00:13,  4.44it/s]\n",
            " 71%|███████   | 142/200 [00:15<00:12,  4.56it/s]\n",
            " 72%|███████▏  | 143/200 [00:15<00:12,  4.72it/s]\n",
            " 72%|███████▏  | 144/200 [00:16<00:12,  4.63it/s]\n",
            " 72%|███████▎  | 145/200 [00:16<00:11,  4.62it/s]\n",
            " 73%|███████▎  | 146/200 [00:16<00:11,  4.60it/s]\n",
            " 74%|███████▎  | 147/200 [00:16<00:11,  4.61it/s]\n",
            " 74%|███████▍  | 148/200 [00:16<00:11,  4.71it/s]\n",
            " 74%|███████▍  | 149/200 [00:17<00:10,  4.64it/s]\n",
            " 75%|███████▌  | 150/200 [00:17<00:11,  4.52it/s]\n",
            " 76%|███████▌  | 151/200 [00:17<00:10,  4.67it/s]\n",
            " 76%|███████▌  | 152/200 [00:17<00:10,  4.56it/s]\n",
            " 76%|███████▋  | 153/200 [00:17<00:09,  4.75it/s]\n",
            " 77%|███████▋  | 154/200 [00:18<00:09,  4.75it/s]\n",
            " 78%|███████▊  | 155/200 [00:18<00:09,  4.73it/s]\n",
            " 78%|███████▊  | 156/200 [00:18<00:09,  4.76it/s]\n",
            " 78%|███████▊  | 157/200 [00:18<00:09,  4.75it/s]\n",
            " 79%|███████▉  | 158/200 [00:19<00:09,  4.64it/s]\n",
            " 80%|███████▉  | 159/200 [00:19<00:08,  4.70it/s]\n",
            " 80%|████████  | 161/200 [00:19<00:08,  4.59it/s]\n",
            " 81%|████████  | 162/200 [00:19<00:08,  4.44it/s]\n",
            " 82%|████████▏ | 163/200 [00:20<00:08,  4.26it/s]\n",
            " 82%|████████▏ | 164/200 [00:20<00:08,  4.25it/s]\n",
            " 82%|████████▎ | 165/200 [00:20<00:08,  4.30it/s]\n",
            " 83%|████████▎ | 166/200 [00:20<00:07,  4.45it/s]\n",
            " 84%|████████▎ | 167/200 [00:21<00:07,  4.66it/s]\n",
            " 84%|████████▍ | 168/200 [00:21<00:06,  4.65it/s]\n",
            " 84%|████████▍ | 169/200 [00:21<00:06,  4.82it/s]\n",
            " 85%|████████▌ | 170/200 [00:21<00:06,  4.85it/s]\n",
            " 86%|████████▌ | 171/200 [00:21<00:06,  4.77it/s]\n",
            " 86%|████████▌ | 172/200 [00:22<00:05,  4.77it/s]\n",
            " 86%|████████▋ | 173/200 [00:22<00:05,  4.76it/s]\n",
            " 87%|████████▋ | 174/200 [00:22<00:05,  4.85it/s]\n",
            " 88%|████████▊ | 175/200 [00:22<00:05,  4.77it/s]\n",
            " 88%|████████▊ | 176/200 [00:22<00:05,  4.71it/s]\n",
            " 88%|████████▊ | 177/200 [00:23<00:05,  4.53it/s]\n",
            " 89%|████████▉ | 178/200 [00:23<00:04,  4.59it/s]\n",
            " 90%|████████▉ | 179/200 [00:23<00:04,  4.61it/s]\n",
            " 90%|█████████ | 180/200 [00:23<00:04,  4.66it/s]\n",
            " 90%|█████████ | 181/200 [00:24<00:04,  4.70it/s]\n",
            " 91%|█████████ | 182/200 [00:24<00:03,  4.65it/s]\n",
            " 92%|█████████▏| 183/200 [00:24<00:03,  4.76it/s]\n",
            " 92%|█████████▏| 184/200 [00:24<00:03,  4.67it/s]\n",
            " 92%|█████████▎| 185/200 [00:24<00:03,  4.70it/s]\n",
            " 93%|█████████▎| 186/200 [00:25<00:03,  4.66it/s]\n",
            " 94%|█████████▎| 187/200 [00:25<00:02,  4.53it/s]\n",
            " 94%|█████████▍| 188/200 [00:25<00:02,  4.41it/s]\n",
            " 94%|█████████▍| 189/200 [00:25<00:02,  4.32it/s]\n",
            " 95%|█████████▌| 190/200 [00:26<00:02,  4.21it/s]\n",
            " 96%|█████████▌| 191/200 [00:26<00:02,  4.26it/s]\n",
            " 96%|█████████▋| 193/200 [00:26<00:01,  4.49it/s]\n",
            " 97%|█████████▋| 194/200 [00:26<00:01,  4.41it/s]\n",
            " 98%|█████████▊| 195/200 [00:27<00:01,  4.36it/s]\n",
            " 98%|█████████▊| 196/200 [00:27<00:00,  4.41it/s]\n",
            " 98%|█████████▊| 197/200 [00:27<00:00,  4.46it/s]\n",
            " 99%|█████████▉| 198/200 [00:27<00:00,  4.38it/s]\n",
            "100%|█████████▉| 199/200 [00:28<00:00,  4.36it/s]\n",
            "100%|██████████| 200/200 [00:28<00:00,  7.06it/s]\n",
            "\n",
            " 38%|███▊      | 77/200 [00:17<00:27,  4.42it/s]\u001b[A\n",
            " 39%|███▉      | 78/200 [00:17<00:24,  5.01it/s]\u001b[A\n",
            " 40%|███▉      | 79/200 [00:18<00:24,  4.91it/s]\u001b[A\n",
            " 40%|████      | 80/200 [00:18<00:24,  4.84it/s]\u001b[A\n",
            " 40%|████      | 81/200 [00:18<00:24,  4.83it/s]\u001b[A\n",
            " 41%|████      | 82/200 [00:18<00:25,  4.69it/s]\u001b[A\n",
            " 42%|████▏     | 83/200 [00:19<00:25,  4.62it/s]\u001b[A\n",
            " 42%|████▏     | 84/200 [00:19<00:25,  4.63it/s]\u001b[A\n",
            " 42%|████▎     | 85/200 [00:19<00:24,  4.65it/s]\u001b[A\n",
            " 43%|████▎     | 86/200 [00:19<00:24,  4.64it/s]\u001b[A\n",
            " 44%|████▎     | 87/200 [00:19<00:25,  4.42it/s]\u001b[A\n",
            " 44%|████▍     | 88/200 [00:20<00:26,  4.30it/s]\u001b[A\n",
            " 44%|████▍     | 89/200 [00:20<00:26,  4.27it/s]\u001b[A\n",
            " 45%|████▌     | 90/200 [00:20<00:25,  4.30it/s]\u001b[A\n",
            " 46%|████▌     | 91/200 [00:20<00:25,  4.25it/s]\u001b[A\n",
            " 46%|████▌     | 92/200 [00:21<00:25,  4.26it/s]\u001b[A\n",
            " 46%|████▋     | 93/200 [00:21<00:24,  4.34it/s]\u001b[A\n",
            " 47%|████▋     | 94/200 [00:21<00:23,  4.47it/s]\u001b[A\n",
            " 48%|████▊     | 95/200 [00:21<00:23,  4.49it/s]\u001b[A\n",
            " 48%|████▊     | 96/200 [00:21<00:22,  4.53it/s]\u001b[A\n",
            " 48%|████▊     | 97/200 [00:22<00:23,  4.39it/s]\u001b[A\n",
            " 49%|████▉     | 98/200 [00:22<00:23,  4.40it/s]\u001b[A\n",
            " 50%|████▉     | 99/200 [00:22<00:22,  4.48it/s]\u001b[A\n",
            " 50%|█████     | 100/200 [00:22<00:22,  4.46it/s]\u001b[A\n",
            " 50%|█████     | 101/200 [00:23<00:22,  4.34it/s]\u001b[A\n",
            " 51%|█████     | 102/200 [00:23<00:23,  4.12it/s]\u001b[A\n",
            " 52%|█████▏    | 103/200 [00:23<00:23,  4.14it/s]\u001b[A\n",
            " 52%|█████▏    | 104/200 [00:23<00:22,  4.18it/s]\u001b[A\n",
            " 52%|█████▎    | 105/200 [00:24<00:22,  4.14it/s]\u001b[A\n",
            " 53%|█████▎    | 106/200 [00:24<00:22,  4.14it/s]\u001b[A\n",
            " 54%|█████▎    | 107/200 [00:24<00:23,  4.03it/s]\u001b[A\n",
            " 54%|█████▍    | 108/200 [00:24<00:22,  4.07it/s]\u001b[A\n",
            " 55%|█████▍    | 109/200 [00:25<00:22,  4.14it/s]\u001b[A\n",
            " 55%|█████▌    | 110/200 [00:25<00:21,  4.19it/s]\u001b[A\n",
            " 56%|█████▌    | 111/200 [00:25<00:20,  4.26it/s]\u001b[A\n",
            " 56%|█████▌    | 112/200 [00:25<00:20,  4.20it/s]\u001b[A\n",
            " 56%|█████▋    | 113/200 [00:26<00:21,  4.12it/s]\u001b[A\n",
            " 57%|█████▋    | 114/200 [00:26<00:20,  4.24it/s]\u001b[A\n",
            " 57%|█████▊    | 115/200 [00:26<00:19,  4.32it/s]\u001b[A\n",
            " 58%|█████▊    | 116/200 [00:26<00:19,  4.41it/s]\u001b[A\n",
            " 58%|█████▊    | 117/200 [00:26<00:18,  4.44it/s]\u001b[A\n",
            " 59%|█████▉    | 118/200 [00:27<00:18,  4.49it/s]\u001b[A\n",
            " 60%|█████▉    | 119/200 [00:27<00:18,  4.41it/s]\u001b[A\n",
            " 60%|██████    | 120/200 [00:27<00:17,  4.49it/s]\u001b[A\n",
            " 60%|██████    | 121/200 [00:27<00:17,  4.57it/s]\u001b[A\n",
            " 61%|██████    | 122/200 [00:28<00:17,  4.47it/s]\u001b[A\n",
            " 62%|██████▏   | 123/200 [00:28<00:17,  4.47it/s]\u001b[A"
          ]
        },
        {
          "output_type": "stream",
          "name": "stdout",
          "text": [
            "{'epoch': 10, 'train_loss': 1.2358965146541596, 'eval_loss': 1.3058311581611632, 'train_ap_score': 0.5801390558450106, 'eval_ap_score': 0.5800861633742634, 'lr': 0.1}\n"
          ]
        },
        {
          "output_type": "stream",
          "name": "stderr",
          "text": [
            "  0%|          | 0/200 [00:00<?, ?it/s]\n",
            "  0%|          | 1/200 [00:00<00:50,  3.94it/s]\n",
            "  1%|          | 2/200 [00:00<00:51,  3.87it/s]\n",
            "  2%|▏         | 3/200 [00:00<00:48,  4.04it/s]\n",
            "  2%|▏         | 4/200 [00:00<00:45,  4.30it/s]\n",
            "  2%|▎         | 5/200 [00:01<00:43,  4.51it/s]\n",
            "  3%|▎         | 6/200 [00:01<00:43,  4.49it/s]\n",
            "  4%|▎         | 7/200 [00:01<00:42,  4.55it/s]\n",
            "  4%|▍         | 8/200 [00:01<00:42,  4.48it/s]\n",
            "  4%|▍         | 9/200 [00:02<00:42,  4.47it/s]\n",
            "  6%|▌         | 11/200 [00:02<00:42,  4.46it/s]\n",
            "  6%|▌         | 12/200 [00:02<00:43,  4.32it/s]\n",
            "  6%|▋         | 13/200 [00:03<00:44,  4.22it/s]\n",
            "  7%|▋         | 14/200 [00:03<00:44,  4.17it/s]\n",
            "  8%|▊         | 15/200 [00:03<00:44,  4.12it/s]\n",
            "  8%|▊         | 16/200 [00:03<00:43,  4.25it/s]\n",
            "  8%|▊         | 17/200 [00:03<00:41,  4.38it/s]\n",
            "  9%|▉         | 18/200 [00:04<00:41,  4.44it/s]\n",
            " 10%|▉         | 19/200 [00:04<00:40,  4.47it/s]\n",
            " 10%|█         | 20/200 [00:04<00:39,  4.56it/s]\n",
            " 10%|█         | 21/200 [00:04<00:39,  4.52it/s]\n",
            " 11%|█         | 22/200 [00:05<00:39,  4.56it/s]\n",
            " 12%|█▏        | 23/200 [00:05<00:37,  4.72it/s]\n",
            " 12%|█▏        | 24/200 [00:05<00:37,  4.66it/s]\n",
            " 12%|█▎        | 25/200 [00:05<00:37,  4.62it/s]\n",
            " 13%|█▎        | 26/200 [00:05<00:37,  4.59it/s]\n",
            " 14%|█▎        | 27/200 [00:06<00:36,  4.72it/s]\n",
            " 14%|█▍        | 28/200 [00:06<00:36,  4.72it/s]\n",
            " 14%|█▍        | 29/200 [00:06<00:36,  4.75it/s]\n",
            " 15%|█▌        | 30/200 [00:06<00:35,  4.85it/s]\n",
            " 16%|█▌        | 31/200 [00:06<00:34,  4.86it/s]\n",
            " 16%|█▌        | 32/200 [00:07<00:34,  4.86it/s]\n",
            " 17%|█▋        | 34/200 [00:07<00:34,  4.85it/s]\n",
            " 18%|█▊        | 35/200 [00:07<00:35,  4.62it/s]\n",
            " 18%|█▊        | 36/200 [00:07<00:36,  4.55it/s]\n",
            " 18%|█▊        | 37/200 [00:08<00:35,  4.53it/s]\n",
            " 19%|█▉        | 38/200 [00:08<00:34,  4.69it/s]\n",
            " 20%|█▉        | 39/200 [00:08<00:33,  4.84it/s]\n",
            " 20%|██        | 40/200 [00:08<00:33,  4.78it/s]\n",
            " 20%|██        | 41/200 [00:09<00:32,  4.83it/s]\n",
            " 21%|██        | 42/200 [00:09<00:34,  4.65it/s]\n",
            " 22%|██▏       | 43/200 [00:09<00:33,  4.74it/s]\n",
            " 22%|██▏       | 44/200 [00:09<00:33,  4.69it/s]\n",
            " 22%|██▎       | 45/200 [00:09<00:33,  4.67it/s]\n",
            " 23%|██▎       | 46/200 [00:10<00:33,  4.66it/s]\n",
            " 24%|██▎       | 47/200 [00:10<00:33,  4.62it/s]\n",
            " 24%|██▍       | 48/200 [00:10<00:32,  4.69it/s]\n",
            " 24%|██▍       | 49/200 [00:10<00:31,  4.74it/s]\n",
            " 25%|██▌       | 50/200 [00:10<00:31,  4.73it/s]\n",
            " 26%|██▌       | 51/200 [00:11<00:33,  4.48it/s]\n",
            " 26%|██▌       | 52/200 [00:11<00:33,  4.47it/s]\n",
            " 26%|██▋       | 53/200 [00:11<00:33,  4.35it/s]\n",
            " 27%|██▋       | 54/200 [00:11<00:33,  4.41it/s]\n",
            " 28%|██▊       | 55/200 [00:12<00:33,  4.39it/s]\n",
            " 28%|██▊       | 56/200 [00:12<00:33,  4.29it/s]\n",
            " 28%|██▊       | 57/200 [00:12<00:33,  4.23it/s]\n",
            " 29%|██▉       | 58/200 [00:12<00:35,  4.02it/s]\n",
            " 30%|██▉       | 59/200 [00:13<00:34,  4.09it/s]\n",
            " 30%|███       | 60/200 [00:13<00:34,  4.01it/s]\n",
            " 30%|███       | 61/200 [00:13<00:34,  4.06it/s]\n",
            " 31%|███       | 62/200 [00:13<00:35,  3.86it/s]\n",
            " 32%|███▏      | 64/200 [00:14<00:34,  3.98it/s]\n",
            " 32%|███▎      | 65/200 [00:14<00:32,  4.14it/s]\n",
            " 33%|███▎      | 66/200 [00:14<00:32,  4.14it/s]\n",
            " 34%|███▎      | 67/200 [00:15<00:32,  4.15it/s]\n",
            " 34%|███▍      | 68/200 [00:15<00:32,  4.08it/s]\n",
            " 34%|███▍      | 69/200 [00:15<00:32,  4.05it/s]\n",
            " 35%|███▌      | 70/200 [00:15<00:29,  4.44it/s]\n",
            " 36%|███▌      | 71/200 [00:15<00:28,  4.54it/s]\n",
            " 36%|███▌      | 72/200 [00:16<00:28,  4.52it/s]\n",
            " 36%|███▋      | 73/200 [00:16<00:27,  4.66it/s]\n",
            " 37%|███▋      | 74/200 [00:16<00:26,  4.70it/s]\n",
            " 38%|███▊      | 75/200 [00:16<00:26,  4.77it/s]\n",
            " 38%|███▊      | 76/200 [00:17<00:26,  4.71it/s]\n",
            " 38%|███▊      | 77/200 [00:17<00:25,  4.82it/s]\n",
            " 39%|███▉      | 78/200 [00:17<00:25,  4.71it/s]\n",
            " 40%|████      | 80/200 [00:17<00:26,  4.53it/s]\n",
            "100%|██████████| 200/200 [00:46<00:00,  4.32it/s]\n",
            " 63%|██████▎   | 126/200 [00:27<00:15,  4.66it/s]"
          ]
        },
        {
          "output_type": "stream",
          "name": "stdout",
          "text": [
            "{'epoch': 1, 'train_loss': 2.7956596767902373, 'eval_loss': 2.307637987136841, 'train_ap_score': 0.10002845240328802, 'eval_ap_score': 0.10011031804939374, 'lr': 0.1}\n"
          ]
        },
        {
          "output_type": "stream",
          "name": "stderr",
          "text": [
            "\n",
            " 64%|██████▎   | 127/200 [00:28<00:16,  4.50it/s]\n",
            " 64%|██████▍   | 128/200 [00:28<00:16,  4.36it/s]\n",
            " 64%|██████▍   | 129/200 [00:28<00:16,  4.23it/s]\n",
            " 65%|██████▌   | 130/200 [00:28<00:16,  4.37it/s]\n",
            " 66%|██████▌   | 131/200 [00:29<00:15,  4.53it/s]\n",
            " 66%|██████▌   | 132/200 [00:29<00:14,  4.63it/s]\n",
            " 66%|██████▋   | 133/200 [00:29<00:14,  4.62it/s]\n",
            " 67%|██████▋   | 134/200 [00:29<00:13,  4.74it/s]\n",
            " 68%|██████▊   | 135/200 [00:29<00:13,  4.74it/s]\n",
            " 68%|██████▊   | 136/200 [00:30<00:13,  4.74it/s]\n",
            " 68%|██████▊   | 137/200 [00:30<00:13,  4.78it/s]\n",
            " 70%|██████▉   | 139/200 [00:30<00:12,  4.78it/s]\n",
            " 70%|███████   | 140/200 [00:31<00:12,  4.72it/s]\n",
            " 70%|███████   | 141/200 [00:31<00:12,  4.66it/s]\n",
            " 71%|███████   | 142/200 [00:31<00:12,  4.77it/s]\n",
            " 72%|███████▏  | 143/200 [00:31<00:11,  4.80it/s]\n",
            " 72%|███████▏  | 144/200 [00:31<00:12,  4.64it/s]\n",
            " 72%|███████▎  | 145/200 [00:32<00:11,  4.79it/s]\n",
            " 73%|███████▎  | 146/200 [00:32<00:11,  4.88it/s]\n",
            " 74%|███████▎  | 147/200 [00:32<00:11,  4.81it/s]\n",
            " 74%|███████▍  | 148/200 [00:32<00:10,  4.78it/s]\n",
            " 74%|███████▍  | 149/200 [00:32<00:10,  4.73it/s]\n",
            " 75%|███████▌  | 150/200 [00:33<00:10,  4.70it/s]\n",
            " 76%|███████▌  | 151/200 [00:33<00:10,  4.74it/s]\n",
            " 76%|███████▌  | 152/200 [00:33<00:10,  4.61it/s]\n",
            " 76%|███████▋  | 153/200 [00:33<00:10,  4.45it/s]\n",
            " 77%|███████▋  | 154/200 [00:34<00:10,  4.46it/s]\n",
            " 78%|███████▊  | 155/200 [00:34<00:09,  4.54it/s]\n",
            " 78%|███████▊  | 156/200 [00:34<00:09,  4.49it/s]\n",
            " 78%|███████▊  | 157/200 [00:34<00:09,  4.38it/s]\n",
            " 79%|███████▉  | 158/200 [00:34<00:09,  4.24it/s]\n",
            " 80%|███████▉  | 159/200 [00:35<00:09,  4.22it/s]\n",
            " 80%|████████  | 160/200 [00:35<00:09,  4.20it/s]\n",
            " 80%|████████  | 161/200 [00:35<00:09,  4.15it/s]\n",
            " 81%|████████  | 162/200 [00:35<00:08,  4.30it/s]\n",
            " 82%|████████▏ | 163/200 [00:36<00:08,  4.36it/s]\n",
            " 82%|████████▏ | 164/200 [00:36<00:09,  3.76it/s]\n",
            " 82%|████████▎ | 165/200 [00:36<00:08,  3.99it/s]\n",
            " 83%|████████▎ | 166/200 [00:36<00:08,  4.17it/s]\n",
            " 84%|████████▎ | 167/200 [00:37<00:07,  4.36it/s]\n",
            " 84%|████████▍ | 168/200 [00:37<00:07,  4.24it/s]\n",
            " 84%|████████▍ | 169/200 [00:37<00:06,  4.44it/s]\n",
            " 85%|████████▌ | 170/200 [00:37<00:06,  4.30it/s]\n",
            " 86%|████████▌ | 171/200 [00:38<00:06,  4.46it/s]\n",
            " 86%|████████▌ | 172/200 [00:38<00:05,  4.70it/s]\n",
            " 86%|████████▋ | 173/200 [00:38<00:05,  4.73it/s]\n",
            " 87%|████████▋ | 174/200 [00:38<00:05,  4.74it/s]\n",
            " 88%|████████▊ | 175/200 [00:38<00:05,  4.44it/s]\n",
            " 88%|████████▊ | 176/200 [00:39<00:05,  4.40it/s]\n",
            " 88%|████████▊ | 177/200 [00:39<00:05,  4.49it/s]\n",
            " 89%|████████▉ | 178/200 [00:39<00:04,  4.51it/s]\n",
            " 90%|████████▉ | 179/200 [00:39<00:04,  4.62it/s]\n",
            " 90%|█████████ | 180/200 [00:39<00:04,  4.55it/s]\n",
            " 90%|█████████ | 181/200 [00:40<00:04,  4.62it/s]\n",
            " 91%|█████████ | 182/200 [00:40<00:03,  4.67it/s]\n",
            " 92%|█████████▏| 183/200 [00:40<00:03,  4.84it/s]\n",
            " 92%|█████████▏| 184/200 [00:40<00:03,  4.78it/s]\n",
            " 92%|█████████▎| 185/200 [00:41<00:03,  4.61it/s]\n",
            " 93%|█████████▎| 186/200 [00:41<00:03,  4.48it/s]\n",
            " 94%|█████████▎| 187/200 [00:41<00:02,  4.39it/s]\n",
            " 94%|█████████▍| 188/200 [00:41<00:02,  4.28it/s]\n",
            " 94%|█████████▍| 189/200 [00:41<00:02,  4.24it/s]\n",
            " 95%|█████████▌| 190/200 [00:42<00:02,  4.37it/s]\n",
            " 96%|█████████▌| 191/200 [00:42<00:01,  4.52it/s]\n",
            " 96%|█████████▌| 192/200 [00:42<00:01,  4.61it/s]\n",
            " 96%|█████████▋| 193/200 [00:42<00:01,  4.71it/s]\n",
            " 98%|█████████▊| 195/200 [00:43<00:01,  4.81it/s]\n",
            " 98%|█████████▊| 196/200 [00:43<00:00,  4.90it/s]\n",
            " 98%|█████████▊| 197/200 [00:43<00:00,  4.94it/s]\n",
            " 99%|█████████▉| 198/200 [00:43<00:00,  4.82it/s]\n",
            "100%|█████████▉| 199/200 [00:44<00:00,  4.58it/s]\n",
            "100%|██████████| 200/200 [00:44<00:00,  4.51it/s]\n",
            "\n",
            " 36%|███▌      | 72/200 [00:16<00:28,  4.44it/s]\u001b[A\n",
            " 36%|███▋      | 73/200 [00:16<00:26,  4.79it/s]\u001b[A\n",
            " 37%|███▋      | 74/200 [00:16<00:27,  4.64it/s]\u001b[A\n",
            " 38%|███▊      | 75/200 [00:16<00:27,  4.48it/s]\u001b[A\n",
            " 38%|███▊      | 76/200 [00:17<00:28,  4.32it/s]\u001b[A\n",
            " 38%|███▊      | 77/200 [00:17<00:28,  4.27it/s]\u001b[A\n",
            " 39%|███▉      | 78/200 [00:17<00:28,  4.24it/s]\u001b[A\n",
            " 40%|███▉      | 79/200 [00:17<00:27,  4.37it/s]\u001b[A\n",
            " 40%|████      | 80/200 [00:18<00:28,  4.23it/s]\u001b[A\n",
            " 40%|████      | 81/200 [00:18<00:28,  4.23it/s]\u001b[A\n",
            " 41%|████      | 82/200 [00:18<00:27,  4.28it/s]\u001b[A\n",
            " 42%|████▏     | 83/200 [00:18<00:27,  4.30it/s]\u001b[A\n",
            " 42%|████▏     | 84/200 [00:18<00:26,  4.38it/s]\u001b[A\n",
            " 42%|████▎     | 85/200 [00:19<00:26,  4.30it/s]\u001b[A\n",
            " 43%|████▎     | 86/200 [00:19<00:27,  4.12it/s]\u001b[A\n",
            " 44%|████▎     | 87/200 [00:19<00:26,  4.19it/s]\u001b[A\n",
            " 44%|████▍     | 88/200 [00:19<00:25,  4.33it/s]\u001b[A\n",
            " 44%|████▍     | 89/200 [00:20<00:25,  4.39it/s]\u001b[A\n",
            " 45%|████▌     | 90/200 [00:20<00:25,  4.31it/s]\u001b[A\n",
            " 46%|████▌     | 91/200 [00:20<00:25,  4.31it/s]\u001b[A\n",
            " 46%|████▌     | 92/200 [00:20<00:24,  4.37it/s]\u001b[A\n",
            " 46%|████▋     | 93/200 [00:21<00:24,  4.43it/s]\u001b[A\n",
            " 47%|████▋     | 94/200 [00:21<00:25,  4.24it/s]\u001b[A\n",
            " 48%|████▊     | 95/200 [00:21<00:24,  4.26it/s]\u001b[A\n",
            " 48%|████▊     | 96/200 [00:21<00:24,  4.20it/s]\u001b[A\n",
            " 48%|████▊     | 97/200 [00:22<00:24,  4.21it/s]\u001b[A\n",
            " 49%|████▉     | 98/200 [00:22<00:23,  4.25it/s]\u001b[A\n",
            " 50%|████▉     | 99/200 [00:22<00:23,  4.26it/s]\u001b[A\n",
            " 50%|█████     | 100/200 [00:22<00:22,  4.41it/s]\u001b[A\n",
            " 50%|█████     | 101/200 [00:22<00:22,  4.35it/s]\u001b[A\n",
            " 51%|█████     | 102/200 [00:23<00:23,  4.18it/s]\u001b[A\n",
            " 52%|█████▏    | 103/200 [00:23<00:21,  4.44it/s]\u001b[A\n",
            " 52%|█████▏    | 104/200 [00:23<00:21,  4.46it/s]\u001b[A\n",
            " 52%|█████▎    | 105/200 [00:23<00:21,  4.36it/s]\u001b[A\n",
            " 53%|█████▎    | 106/200 [00:24<00:22,  4.23it/s]\u001b[A\n",
            " 54%|█████▎    | 107/200 [00:24<00:20,  4.44it/s]\u001b[A\n",
            " 54%|█████▍    | 108/200 [00:24<00:20,  4.57it/s]\u001b[A\n",
            " 55%|█████▍    | 109/200 [00:24<00:19,  4.61it/s]\u001b[A\n",
            " 55%|█████▌    | 110/200 [00:24<00:19,  4.67it/s]\u001b[A\n",
            " 56%|█████▌    | 111/200 [00:25<00:18,  4.76it/s]\u001b[A\n",
            " 56%|█████▌    | 112/200 [00:25<00:18,  4.74it/s]\u001b[A\n",
            " 56%|█████▋    | 113/200 [00:25<00:18,  4.64it/s]\u001b[A\n",
            " 57%|█████▋    | 114/200 [00:25<00:18,  4.73it/s]\u001b[A\n",
            " 57%|█████▊    | 115/200 [00:25<00:17,  4.79it/s]\u001b[A\n",
            " 58%|█████▊    | 116/200 [00:26<00:17,  4.74it/s]\u001b[A\n",
            " 58%|█████▊    | 117/200 [00:26<00:17,  4.62it/s]\u001b[A\n",
            " 59%|█████▉    | 118/200 [00:26<00:18,  4.43it/s]\u001b[A"
          ]
        },
        {
          "output_type": "stream",
          "name": "stdout",
          "text": [
            "{'epoch': 11, 'train_loss': 1.2820205175876618, 'eval_loss': 1.3758660769462585, 'train_ap_score': 0.5650849779650308, 'eval_ap_score': 0.5632464936517302, 'lr': 0.1}\n"
          ]
        },
        {
          "output_type": "stream",
          "name": "stderr",
          "text": [
            "  0%|          | 0/200 [00:00<?, ?it/s]\n",
            "  0%|          | 1/200 [00:00<00:52,  3.79it/s]\n",
            "  1%|          | 2/200 [00:00<00:54,  3.64it/s]\n",
            "  2%|▏         | 3/200 [00:00<00:51,  3.84it/s]\n",
            "  2%|▏         | 4/200 [00:01<00:48,  4.05it/s]\n",
            "  2%|▏         | 4/200 [00:02<02:05,  1.56it/s]\n"
          ]
        },
        {
          "output_type": "display_data",
          "data": {
            "text/plain": [
              "<IPython.core.display.HTML object>"
            ],
            "text/html": [
              "Waiting for W&B process to finish... <strong style=\"color:red\">(failed 1).</strong> Press Control-C to abort syncing."
            ]
          },
          "metadata": {}
        },
        {
          "output_type": "stream",
          "name": "stderr",
          "text": [
            "\r 62%|██████▏   | 123/200 [00:29<00:18,  4.17it/s]\n",
            "\u001b[34m\u001b[1mwandb\u001b[0m: \u001b[32m\u001b[41mERROR\u001b[0m Run sis1v8c4 errored: RuntimeError('CUDA error: misaligned address\\nCUDA kernel errors might be asynchronously reported at some other API call, so the stacktrace below might be incorrect.\\nFor debugging consider passing CUDA_LAUNCH_BLOCKING=1.\\nCompile with `TORCH_USE_CUDA_DSA` to enable device-side assertions.\\n')\n",
            "\u001b[34m\u001b[1mwandb\u001b[0m: Ctrl + C detected. Stopping sweep.\n"
          ]
        },
        {
          "output_type": "stream",
          "name": "stdout",
          "text": [
            "Error in callback <function _WandbInit._pause_backend at 0x7f8803fc1e10> (for post_run_cell):\n"
          ]
        },
        {
          "output_type": "error",
          "ename": "BrokenPipeError",
          "evalue": "ignored",
          "traceback": [
            "\u001b[0;31m---------------------------------------------------------------------------\u001b[0m",
            "\u001b[0;31mBrokenPipeError\u001b[0m                           Traceback (most recent call last)",
            "\u001b[0;32m/usr/local/lib/python3.10/dist-packages/backcall/backcall.py\u001b[0m in \u001b[0;36madapted\u001b[0;34m(*args, **kwargs)\u001b[0m\n\u001b[1;32m    102\u001b[0m                 \u001b[0mkwargs\u001b[0m\u001b[0;34m.\u001b[0m\u001b[0mpop\u001b[0m\u001b[0;34m(\u001b[0m\u001b[0mname\u001b[0m\u001b[0;34m)\u001b[0m\u001b[0;34m\u001b[0m\u001b[0;34m\u001b[0m\u001b[0m\n\u001b[1;32m    103\u001b[0m \u001b[0;31m#            print(args, kwargs, unmatched_pos, cut_positional, unmatched_kw)\u001b[0m\u001b[0;34m\u001b[0m\u001b[0;34m\u001b[0m\u001b[0m\n\u001b[0;32m--> 104\u001b[0;31m             \u001b[0;32mreturn\u001b[0m \u001b[0mcallback\u001b[0m\u001b[0;34m(\u001b[0m\u001b[0;34m*\u001b[0m\u001b[0margs\u001b[0m\u001b[0;34m,\u001b[0m \u001b[0;34m**\u001b[0m\u001b[0mkwargs\u001b[0m\u001b[0;34m)\u001b[0m\u001b[0;34m\u001b[0m\u001b[0;34m\u001b[0m\u001b[0m\n\u001b[0m\u001b[1;32m    105\u001b[0m \u001b[0;34m\u001b[0m\u001b[0m\n\u001b[1;32m    106\u001b[0m         \u001b[0;32mreturn\u001b[0m \u001b[0madapted\u001b[0m\u001b[0;34m\u001b[0m\u001b[0;34m\u001b[0m\u001b[0m\n",
            "\u001b[0;32m/usr/local/lib/python3.10/dist-packages/wandb/sdk/wandb_init.py\u001b[0m in \u001b[0;36m_pause_backend\u001b[0;34m(self)\u001b[0m\n\u001b[1;32m    417\u001b[0m         \u001b[0;32mif\u001b[0m \u001b[0mself\u001b[0m\u001b[0;34m.\u001b[0m\u001b[0mbackend\u001b[0m\u001b[0;34m.\u001b[0m\u001b[0minterface\u001b[0m \u001b[0;32mis\u001b[0m \u001b[0;32mnot\u001b[0m \u001b[0;32mNone\u001b[0m\u001b[0;34m:\u001b[0m\u001b[0;34m\u001b[0m\u001b[0;34m\u001b[0m\u001b[0m\n\u001b[1;32m    418\u001b[0m             \u001b[0mlogger\u001b[0m\u001b[0;34m.\u001b[0m\u001b[0minfo\u001b[0m\u001b[0;34m(\u001b[0m\u001b[0;34m\"pausing backend\"\u001b[0m\u001b[0;34m)\u001b[0m  \u001b[0;31m# type: ignore\u001b[0m\u001b[0;34m\u001b[0m\u001b[0;34m\u001b[0m\u001b[0m\n\u001b[0;32m--> 419\u001b[0;31m             \u001b[0mself\u001b[0m\u001b[0;34m.\u001b[0m\u001b[0mbackend\u001b[0m\u001b[0;34m.\u001b[0m\u001b[0minterface\u001b[0m\u001b[0;34m.\u001b[0m\u001b[0mpublish_pause\u001b[0m\u001b[0;34m(\u001b[0m\u001b[0;34m)\u001b[0m\u001b[0;34m\u001b[0m\u001b[0;34m\u001b[0m\u001b[0m\n\u001b[0m\u001b[1;32m    420\u001b[0m \u001b[0;34m\u001b[0m\u001b[0m\n\u001b[1;32m    421\u001b[0m     \u001b[0;32mdef\u001b[0m \u001b[0m_resume_backend\u001b[0m\u001b[0;34m(\u001b[0m\u001b[0mself\u001b[0m\u001b[0;34m)\u001b[0m \u001b[0;34m->\u001b[0m \u001b[0;32mNone\u001b[0m\u001b[0;34m:\u001b[0m\u001b[0;34m\u001b[0m\u001b[0;34m\u001b[0m\u001b[0m\n",
            "\u001b[0;32m/usr/local/lib/python3.10/dist-packages/wandb/sdk/interface/interface.py\u001b[0m in \u001b[0;36mpublish_pause\u001b[0;34m(self)\u001b[0m\n\u001b[1;32m    663\u001b[0m     \u001b[0;32mdef\u001b[0m \u001b[0mpublish_pause\u001b[0m\u001b[0;34m(\u001b[0m\u001b[0mself\u001b[0m\u001b[0;34m)\u001b[0m \u001b[0;34m->\u001b[0m \u001b[0;32mNone\u001b[0m\u001b[0;34m:\u001b[0m\u001b[0;34m\u001b[0m\u001b[0;34m\u001b[0m\u001b[0m\n\u001b[1;32m    664\u001b[0m         \u001b[0mpause\u001b[0m \u001b[0;34m=\u001b[0m \u001b[0mpb\u001b[0m\u001b[0;34m.\u001b[0m\u001b[0mPauseRequest\u001b[0m\u001b[0;34m(\u001b[0m\u001b[0;34m)\u001b[0m\u001b[0;34m\u001b[0m\u001b[0;34m\u001b[0m\u001b[0m\n\u001b[0;32m--> 665\u001b[0;31m         \u001b[0mself\u001b[0m\u001b[0;34m.\u001b[0m\u001b[0m_publish_pause\u001b[0m\u001b[0;34m(\u001b[0m\u001b[0mpause\u001b[0m\u001b[0;34m)\u001b[0m\u001b[0;34m\u001b[0m\u001b[0;34m\u001b[0m\u001b[0m\n\u001b[0m\u001b[1;32m    666\u001b[0m \u001b[0;34m\u001b[0m\u001b[0m\n\u001b[1;32m    667\u001b[0m     \u001b[0;34m@\u001b[0m\u001b[0mabstractmethod\u001b[0m\u001b[0;34m\u001b[0m\u001b[0;34m\u001b[0m\u001b[0m\n",
            "\u001b[0;32m/usr/local/lib/python3.10/dist-packages/wandb/sdk/interface/interface_shared.py\u001b[0m in \u001b[0;36m_publish_pause\u001b[0;34m(self, pause)\u001b[0m\n\u001b[1;32m    338\u001b[0m     \u001b[0;32mdef\u001b[0m \u001b[0m_publish_pause\u001b[0m\u001b[0;34m(\u001b[0m\u001b[0mself\u001b[0m\u001b[0;34m,\u001b[0m \u001b[0mpause\u001b[0m\u001b[0;34m:\u001b[0m \u001b[0mpb\u001b[0m\u001b[0;34m.\u001b[0m\u001b[0mPauseRequest\u001b[0m\u001b[0;34m)\u001b[0m \u001b[0;34m->\u001b[0m \u001b[0;32mNone\u001b[0m\u001b[0;34m:\u001b[0m\u001b[0;34m\u001b[0m\u001b[0;34m\u001b[0m\u001b[0m\n\u001b[1;32m    339\u001b[0m         \u001b[0mrec\u001b[0m \u001b[0;34m=\u001b[0m \u001b[0mself\u001b[0m\u001b[0;34m.\u001b[0m\u001b[0m_make_request\u001b[0m\u001b[0;34m(\u001b[0m\u001b[0mpause\u001b[0m\u001b[0;34m=\u001b[0m\u001b[0mpause\u001b[0m\u001b[0;34m)\u001b[0m\u001b[0;34m\u001b[0m\u001b[0;34m\u001b[0m\u001b[0m\n\u001b[0;32m--> 340\u001b[0;31m         \u001b[0mself\u001b[0m\u001b[0;34m.\u001b[0m\u001b[0m_publish\u001b[0m\u001b[0;34m(\u001b[0m\u001b[0mrec\u001b[0m\u001b[0;34m)\u001b[0m\u001b[0;34m\u001b[0m\u001b[0;34m\u001b[0m\u001b[0m\n\u001b[0m\u001b[1;32m    341\u001b[0m \u001b[0;34m\u001b[0m\u001b[0m\n\u001b[1;32m    342\u001b[0m     \u001b[0;32mdef\u001b[0m \u001b[0m_publish_resume\u001b[0m\u001b[0;34m(\u001b[0m\u001b[0mself\u001b[0m\u001b[0;34m,\u001b[0m \u001b[0mresume\u001b[0m\u001b[0;34m:\u001b[0m \u001b[0mpb\u001b[0m\u001b[0;34m.\u001b[0m\u001b[0mResumeRequest\u001b[0m\u001b[0;34m)\u001b[0m \u001b[0;34m->\u001b[0m \u001b[0;32mNone\u001b[0m\u001b[0;34m:\u001b[0m\u001b[0;34m\u001b[0m\u001b[0;34m\u001b[0m\u001b[0m\n",
            "\u001b[0;32m/usr/local/lib/python3.10/dist-packages/wandb/sdk/interface/interface_sock.py\u001b[0m in \u001b[0;36m_publish\u001b[0;34m(self, record, local)\u001b[0m\n\u001b[1;32m     49\u001b[0m     \u001b[0;32mdef\u001b[0m \u001b[0m_publish\u001b[0m\u001b[0;34m(\u001b[0m\u001b[0mself\u001b[0m\u001b[0;34m,\u001b[0m \u001b[0mrecord\u001b[0m\u001b[0;34m:\u001b[0m \u001b[0;34m\"pb.Record\"\u001b[0m\u001b[0;34m,\u001b[0m \u001b[0mlocal\u001b[0m\u001b[0;34m:\u001b[0m \u001b[0mOptional\u001b[0m\u001b[0;34m[\u001b[0m\u001b[0mbool\u001b[0m\u001b[0;34m]\u001b[0m \u001b[0;34m=\u001b[0m \u001b[0;32mNone\u001b[0m\u001b[0;34m)\u001b[0m \u001b[0;34m->\u001b[0m \u001b[0;32mNone\u001b[0m\u001b[0;34m:\u001b[0m\u001b[0;34m\u001b[0m\u001b[0;34m\u001b[0m\u001b[0m\n\u001b[1;32m     50\u001b[0m         \u001b[0mself\u001b[0m\u001b[0;34m.\u001b[0m\u001b[0m_assign\u001b[0m\u001b[0;34m(\u001b[0m\u001b[0mrecord\u001b[0m\u001b[0;34m)\u001b[0m\u001b[0;34m\u001b[0m\u001b[0;34m\u001b[0m\u001b[0m\n\u001b[0;32m---> 51\u001b[0;31m         \u001b[0mself\u001b[0m\u001b[0;34m.\u001b[0m\u001b[0m_sock_client\u001b[0m\u001b[0;34m.\u001b[0m\u001b[0msend_record_publish\u001b[0m\u001b[0;34m(\u001b[0m\u001b[0mrecord\u001b[0m\u001b[0;34m)\u001b[0m\u001b[0;34m\u001b[0m\u001b[0;34m\u001b[0m\u001b[0m\n\u001b[0m\u001b[1;32m     52\u001b[0m \u001b[0;34m\u001b[0m\u001b[0m\n\u001b[1;32m     53\u001b[0m     def _communicate_async(\n",
            "\u001b[0;32m/usr/local/lib/python3.10/dist-packages/wandb/sdk/lib/sock_client.py\u001b[0m in \u001b[0;36msend_record_publish\u001b[0;34m(self, record)\u001b[0m\n\u001b[1;32m    219\u001b[0m         \u001b[0mserver_req\u001b[0m \u001b[0;34m=\u001b[0m \u001b[0mspb\u001b[0m\u001b[0;34m.\u001b[0m\u001b[0mServerRequest\u001b[0m\u001b[0;34m(\u001b[0m\u001b[0;34m)\u001b[0m\u001b[0;34m\u001b[0m\u001b[0;34m\u001b[0m\u001b[0m\n\u001b[1;32m    220\u001b[0m         \u001b[0mserver_req\u001b[0m\u001b[0;34m.\u001b[0m\u001b[0mrecord_publish\u001b[0m\u001b[0;34m.\u001b[0m\u001b[0mCopyFrom\u001b[0m\u001b[0;34m(\u001b[0m\u001b[0mrecord\u001b[0m\u001b[0;34m)\u001b[0m\u001b[0;34m\u001b[0m\u001b[0;34m\u001b[0m\u001b[0m\n\u001b[0;32m--> 221\u001b[0;31m         \u001b[0mself\u001b[0m\u001b[0;34m.\u001b[0m\u001b[0msend_server_request\u001b[0m\u001b[0;34m(\u001b[0m\u001b[0mserver_req\u001b[0m\u001b[0;34m)\u001b[0m\u001b[0;34m\u001b[0m\u001b[0;34m\u001b[0m\u001b[0m\n\u001b[0m\u001b[1;32m    222\u001b[0m \u001b[0;34m\u001b[0m\u001b[0m\n\u001b[1;32m    223\u001b[0m     \u001b[0;32mdef\u001b[0m \u001b[0m_extract_packet_bytes\u001b[0m\u001b[0;34m(\u001b[0m\u001b[0mself\u001b[0m\u001b[0;34m)\u001b[0m \u001b[0;34m->\u001b[0m \u001b[0mOptional\u001b[0m\u001b[0;34m[\u001b[0m\u001b[0mbytes\u001b[0m\u001b[0;34m]\u001b[0m\u001b[0;34m:\u001b[0m\u001b[0;34m\u001b[0m\u001b[0;34m\u001b[0m\u001b[0m\n",
            "\u001b[0;32m/usr/local/lib/python3.10/dist-packages/wandb/sdk/lib/sock_client.py\u001b[0m in \u001b[0;36msend_server_request\u001b[0;34m(self, msg)\u001b[0m\n\u001b[1;32m    153\u001b[0m \u001b[0;34m\u001b[0m\u001b[0m\n\u001b[1;32m    154\u001b[0m     \u001b[0;32mdef\u001b[0m \u001b[0msend_server_request\u001b[0m\u001b[0;34m(\u001b[0m\u001b[0mself\u001b[0m\u001b[0;34m,\u001b[0m \u001b[0mmsg\u001b[0m\u001b[0;34m:\u001b[0m \u001b[0mAny\u001b[0m\u001b[0;34m)\u001b[0m \u001b[0;34m->\u001b[0m \u001b[0;32mNone\u001b[0m\u001b[0;34m:\u001b[0m\u001b[0;34m\u001b[0m\u001b[0;34m\u001b[0m\u001b[0m\n\u001b[0;32m--> 155\u001b[0;31m         \u001b[0mself\u001b[0m\u001b[0;34m.\u001b[0m\u001b[0m_send_message\u001b[0m\u001b[0;34m(\u001b[0m\u001b[0mmsg\u001b[0m\u001b[0;34m)\u001b[0m\u001b[0;34m\u001b[0m\u001b[0;34m\u001b[0m\u001b[0m\n\u001b[0m\u001b[1;32m    156\u001b[0m \u001b[0;34m\u001b[0m\u001b[0m\n\u001b[1;32m    157\u001b[0m     \u001b[0;32mdef\u001b[0m \u001b[0msend_server_response\u001b[0m\u001b[0;34m(\u001b[0m\u001b[0mself\u001b[0m\u001b[0;34m,\u001b[0m \u001b[0mmsg\u001b[0m\u001b[0;34m:\u001b[0m \u001b[0mAny\u001b[0m\u001b[0;34m)\u001b[0m \u001b[0;34m->\u001b[0m \u001b[0;32mNone\u001b[0m\u001b[0;34m:\u001b[0m\u001b[0;34m\u001b[0m\u001b[0;34m\u001b[0m\u001b[0m\n",
            "\u001b[0;32m/usr/local/lib/python3.10/dist-packages/wandb/sdk/lib/sock_client.py\u001b[0m in \u001b[0;36m_send_message\u001b[0;34m(self, msg)\u001b[0m\n\u001b[1;32m    150\u001b[0m         \u001b[0mheader\u001b[0m \u001b[0;34m=\u001b[0m \u001b[0mstruct\u001b[0m\u001b[0;34m.\u001b[0m\u001b[0mpack\u001b[0m\u001b[0;34m(\u001b[0m\u001b[0;34m\"<BI\"\u001b[0m\u001b[0;34m,\u001b[0m \u001b[0mord\u001b[0m\u001b[0;34m(\u001b[0m\u001b[0;34m\"W\"\u001b[0m\u001b[0;34m)\u001b[0m\u001b[0;34m,\u001b[0m \u001b[0mraw_size\u001b[0m\u001b[0;34m)\u001b[0m\u001b[0;34m\u001b[0m\u001b[0;34m\u001b[0m\u001b[0m\n\u001b[1;32m    151\u001b[0m         \u001b[0;32mwith\u001b[0m \u001b[0mself\u001b[0m\u001b[0;34m.\u001b[0m\u001b[0m_lock\u001b[0m\u001b[0;34m:\u001b[0m\u001b[0;34m\u001b[0m\u001b[0;34m\u001b[0m\u001b[0m\n\u001b[0;32m--> 152\u001b[0;31m             \u001b[0mself\u001b[0m\u001b[0;34m.\u001b[0m\u001b[0m_sendall_with_error_handle\u001b[0m\u001b[0;34m(\u001b[0m\u001b[0mheader\u001b[0m \u001b[0;34m+\u001b[0m \u001b[0mdata\u001b[0m\u001b[0;34m)\u001b[0m\u001b[0;34m\u001b[0m\u001b[0;34m\u001b[0m\u001b[0m\n\u001b[0m\u001b[1;32m    153\u001b[0m \u001b[0;34m\u001b[0m\u001b[0m\n\u001b[1;32m    154\u001b[0m     \u001b[0;32mdef\u001b[0m \u001b[0msend_server_request\u001b[0m\u001b[0;34m(\u001b[0m\u001b[0mself\u001b[0m\u001b[0;34m,\u001b[0m \u001b[0mmsg\u001b[0m\u001b[0;34m:\u001b[0m \u001b[0mAny\u001b[0m\u001b[0;34m)\u001b[0m \u001b[0;34m->\u001b[0m \u001b[0;32mNone\u001b[0m\u001b[0;34m:\u001b[0m\u001b[0;34m\u001b[0m\u001b[0;34m\u001b[0m\u001b[0m\n",
            "\u001b[0;32m/usr/local/lib/python3.10/dist-packages/wandb/sdk/lib/sock_client.py\u001b[0m in \u001b[0;36m_sendall_with_error_handle\u001b[0;34m(self, data)\u001b[0m\n\u001b[1;32m    128\u001b[0m             \u001b[0mstart_time\u001b[0m \u001b[0;34m=\u001b[0m \u001b[0mtime\u001b[0m\u001b[0;34m.\u001b[0m\u001b[0mmonotonic\u001b[0m\u001b[0;34m(\u001b[0m\u001b[0;34m)\u001b[0m\u001b[0;34m\u001b[0m\u001b[0;34m\u001b[0m\u001b[0m\n\u001b[1;32m    129\u001b[0m             \u001b[0;32mtry\u001b[0m\u001b[0;34m:\u001b[0m\u001b[0;34m\u001b[0m\u001b[0;34m\u001b[0m\u001b[0m\n\u001b[0;32m--> 130\u001b[0;31m                 \u001b[0msent\u001b[0m \u001b[0;34m=\u001b[0m \u001b[0mself\u001b[0m\u001b[0;34m.\u001b[0m\u001b[0m_sock\u001b[0m\u001b[0;34m.\u001b[0m\u001b[0msend\u001b[0m\u001b[0;34m(\u001b[0m\u001b[0mdata\u001b[0m\u001b[0;34m)\u001b[0m\u001b[0;34m\u001b[0m\u001b[0;34m\u001b[0m\u001b[0m\n\u001b[0m\u001b[1;32m    131\u001b[0m                 \u001b[0;31m# sent equal to 0 indicates a closed socket\u001b[0m\u001b[0;34m\u001b[0m\u001b[0;34m\u001b[0m\u001b[0m\n\u001b[1;32m    132\u001b[0m                 \u001b[0;32mif\u001b[0m \u001b[0msent\u001b[0m \u001b[0;34m==\u001b[0m \u001b[0;36m0\u001b[0m\u001b[0;34m:\u001b[0m\u001b[0;34m\u001b[0m\u001b[0;34m\u001b[0m\u001b[0m\n",
            "\u001b[0;31mBrokenPipeError\u001b[0m: [Errno 32] Broken pipe"
          ]
        }
      ]
    },
    {
      "cell_type": "code",
      "source": [
        "### Done.\n",
        "# Now execute your training script on multiple machines.\n",
        "# Each run will request the config file from wandb and related experiments will be logged.\n",
        "# \n",
        "# NOTE!! wandb.log(data_to_log) must be present inside the code!! Else there is no meaning to sweep.\n"
      ],
      "metadata": {
        "id": "alHqJ4mQZTtM"
      },
      "execution_count": null,
      "outputs": []
    },
    {
      "cell_type": "markdown",
      "source": [
        "# ------------------------------ Ends ------------------------------"
      ],
      "metadata": {
        "id": "aNIxPqn_OGTU"
      }
    }
  ]
}